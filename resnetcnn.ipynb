{
 "cells": [
  {
   "cell_type": "code",
   "execution_count": 2,
   "metadata": {},
   "outputs": [],
   "source": [
    "from IPython.core.interactiveshell import InteractiveShell\n",
    "InteractiveShell.ast_node_interactivity = 'all'"
   ]
  },
  {
   "cell_type": "code",
   "execution_count": 1,
   "metadata": {},
   "outputs": [],
   "source": [
    "import gzip\n",
    "import pickle\n",
    "import numpy as np\n",
    "import pandas as pd\n",
    "import matplotlib.pyplot as plt\n",
    "%matplotlib inline\n",
    "\n",
    "import torch\n",
    "import torch.nn as nn\n",
    "import torch.nn.functional as F\n",
    "import torch.optim as optim\n",
    "from torch.utils.data import Dataset, DataLoader, TensorDataset\n",
    "torch.set_num_threads(7)\n",
    "from commons import *\n",
    "from SMS import *"
   ]
  },
  {
   "cell_type": "code",
   "execution_count": 2,
   "metadata": {},
   "outputs": [],
   "source": [
    "import csv\n",
    "\n",
    "CATEGORIES = ['genre', 'instrument', 'mood/theme']\n",
    "TAG_HYPHEN = '---'\n",
    "METADATA_DESCRIPTION = 'TSV file with such columns: TRACK_ID, ARTIST_ID, ALBUM_ID, PATH, DURATION, TAGS'\n",
    "\n",
    "\n",
    "def get_id(value):\n",
    "    return int(value.split('_')[1])\n",
    "\n",
    "\n",
    "def get_length(values):\n",
    "    return len(str(max(values)))\n",
    "\n",
    "\n",
    "def read_file(tsv_file):\n",
    "    tracks = {}\n",
    "    tags = {category: {} for category in CATEGORIES}\n",
    "\n",
    "    # For statistics\n",
    "    artist_ids = set()\n",
    "    albums_ids = set()\n",
    "\n",
    "    with open(tsv_file) as fp:\n",
    "        reader = csv.reader(fp, delimiter='\\t')\n",
    "        next(reader, None)  # skip header\n",
    "        for row in reader:\n",
    "            track_id = get_id(row[0])\n",
    "            tracks[track_id] = {\n",
    "                'artist_id': get_id(row[1]),\n",
    "                'album_id': get_id(row[2]),\n",
    "                'path': row[3],\n",
    "                'duration': float(row[4]),\n",
    "                'tags': row[5:],  # raw tags, not sure if will be used\n",
    "            }\n",
    "            tracks[track_id].update({category: set() for category in CATEGORIES})\n",
    "\n",
    "            artist_ids.add(get_id(row[1]))\n",
    "            albums_ids.add(get_id(row[2]))\n",
    "\n",
    "            for tag_str in row[5:]:\n",
    "                category, tag = tag_str.split(TAG_HYPHEN)\n",
    "\n",
    "                if tag not in tags[category]:\n",
    "                    tags[category][tag] = set()\n",
    "\n",
    "                tags[category][tag].add(track_id)\n",
    "\n",
    "                tracks[track_id][category].add(tag)\n",
    "\n",
    "    print(\"Reading: {} tracks, {} albums, {} artists\".format(len(tracks), len(albums_ids), len(artist_ids)))\n",
    "\n",
    "    extra = {\n",
    "        'track_id_length': get_length(tracks.keys()),\n",
    "        'artist_id_length': get_length(artist_ids),\n",
    "        'album_id_length': get_length(albums_ids)\n",
    "    }\n",
    "    return tracks, tags, extra\n",
    "\n",
    "\n",
    "def write_file(tracks, tsv_file, extra):\n",
    "    rows = []\n",
    "    for track_id, track in tracks.items():\n",
    "        row = [\n",
    "            'track_' + str(track_id).zfill(extra['track_id_length']),\n",
    "            'artist_' + str(track['artist_id']).zfill(extra['artist_id_length']),\n",
    "            'album_' + str(track['album_id']).zfill(extra['album_id_length']),\n",
    "            track['path'],\n",
    "            track['duration']\n",
    "        ]\n",
    "\n",
    "        tags = []\n",
    "        for category in CATEGORIES:\n",
    "            tags += [category + '---' + tag for tag in track[category]]\n",
    "\n",
    "        row += sorted(tags)\n",
    "        rows.append(row)\n",
    "\n",
    "    with open(tsv_file, 'w') as fp:\n",
    "        writer = csv.writer(fp, delimiter='\\t')\n",
    "        writer.writerow(['TRACK_ID', 'ARTIST_ID', 'ALBUM_ID', 'PATH', 'DURATION', 'TAGS'])\n",
    "        for row in rows:\n",
    "            writer.writerow(row)"
   ]
  },
  {
   "cell_type": "code",
   "execution_count": 3,
   "metadata": {},
   "outputs": [
    {
     "name": "stdout",
     "output_type": "stream",
     "text": [
      "Reading: 9949 tracks, 2471 albums, 874 artists\n",
      "Reading: 3802 tracks, 927 albums, 307 artists\n",
      "Reading: 4231 tracks, 1025 albums, 327 artists\n"
     ]
    }
   ],
   "source": [
    "train_info = read_file('../data/splits/split-0/autotagging_moodtheme-train.tsv')\n",
    "validation_info = read_file('../data/splits/split-0/autotagging_moodtheme-validation.tsv')\n",
    "test_info = read_file('../data/splits/split-0/autotagging_moodtheme-test.tsv')"
   ]
  },
  {
   "cell_type": "code",
   "execution_count": 4,
   "metadata": {},
   "outputs": [],
   "source": [
    "def parse(a_info):\n",
    "    ans = []\n",
    "    for k,v in a_info[1]['mood/theme'].items():\n",
    "        ans.append(pd.DataFrame({\n",
    "            k: 1,\n",
    "            'file': list(v)\n",
    "        }))\n",
    "\n",
    "    df = ans[0]\n",
    "    for x in ans[1:]:\n",
    "        df = pd.merge(df, x, on='file', how='outer')\n",
    "    df = df.set_index('file').fillna(0)\n",
    "    df.loc[:, :] = df.loc[:, :].astype('int64')\n",
    "    return df"
   ]
  },
  {
   "cell_type": "code",
   "execution_count": 5,
   "metadata": {},
   "outputs": [],
   "source": [
    "train_df = parse(train_info)\n",
    "valid_df = parse(validation_info)\n",
    "test_df = parse(test_info)"
   ]
  },
  {
   "cell_type": "code",
   "execution_count": 6,
   "metadata": {},
   "outputs": [
    {
     "data": {
      "text/plain": [
       "(4231, 56)"
      ]
     },
     "execution_count": 6,
     "metadata": {},
     "output_type": "execute_result"
    }
   ],
   "source": [
    "train_df.shape\n",
    "valid_df.shape\n",
    "test_df.shape"
   ]
  },
  {
   "cell_type": "code",
   "execution_count": 7,
   "metadata": {},
   "outputs": [
    {
     "data": {
      "text/plain": [
       "Index(['background', 'film', 'melancholic', 'melodic', 'children', 'relaxing',\n",
       "       'documentary', 'emotional', 'space', 'love', 'drama', 'adventure',\n",
       "       'energetic', 'heavy', 'dark', 'calm', 'action', 'dramatic', 'epic',\n",
       "       'powerful', 'upbeat', 'slow', 'inspiring', 'soft', 'meditative', 'fun',\n",
       "       'happy', 'positive', 'romantic', 'sad', 'hopeful', 'motivational',\n",
       "       'deep', 'uplifting', 'ballad', 'soundscape', 'dream', 'movie', 'fast',\n",
       "       'nature', 'cool', 'corporate', 'travel', 'funny', 'sport', 'commercial',\n",
       "       'advertising', 'holiday', 'christmas', 'sexy', 'game', 'groovy',\n",
       "       'retro', 'summer', 'party', 'trailer'],\n",
       "      dtype='object')"
      ]
     },
     "execution_count": 7,
     "metadata": {},
     "output_type": "execute_result"
    }
   ],
   "source": [
    "train_df.columns"
   ]
  },
  {
   "cell_type": "code",
   "execution_count": 8,
   "metadata": {},
   "outputs": [],
   "source": [
    "train_df = train_df.loc[:, sorted(train_df.columns.tolist())]\n",
    "valid_df = valid_df.loc[:, sorted(train_df.columns.tolist())]\n",
    "test_df = test_df.loc[:, sorted(train_df.columns.tolist())]"
   ]
  },
  {
   "cell_type": "code",
   "execution_count": 9,
   "metadata": {},
   "outputs": [
    {
     "data": {
      "text/plain": [
       "Index(['action', 'adventure', 'advertising', 'background', 'ballad', 'calm',\n",
       "       'children', 'christmas', 'commercial', 'cool', 'corporate', 'dark',\n",
       "       'deep', 'documentary', 'drama', 'dramatic', 'dream', 'emotional',\n",
       "       'energetic', 'epic', 'fast', 'film', 'fun', 'funny', 'game', 'groovy',\n",
       "       'happy', 'heavy', 'holiday', 'hopeful', 'inspiring', 'love',\n",
       "       'meditative', 'melancholic', 'melodic', 'motivational', 'movie',\n",
       "       'nature', 'party', 'positive', 'powerful', 'relaxing', 'retro',\n",
       "       'romantic', 'sad', 'sexy', 'slow', 'soft', 'soundscape', 'space',\n",
       "       'sport', 'summer', 'trailer', 'travel', 'upbeat', 'uplifting'],\n",
       "      dtype='object')"
      ]
     },
     "execution_count": 9,
     "metadata": {},
     "output_type": "execute_result"
    }
   ],
   "source": [
    "train_df.columns"
   ]
  },
  {
   "cell_type": "code",
   "execution_count": 10,
   "metadata": {},
   "outputs": [],
   "source": [
    "def np_load_gz(x):\n",
    "    with gzip.open(x, 'rb') as f:\n",
    "        return np.load(f)"
   ]
  },
  {
   "cell_type": "code",
   "execution_count": 11,
   "metadata": {},
   "outputs": [],
   "source": [
    "import random\n",
    "def random_30s(x):\n",
    "    x_len = x.shape[1]\n",
    "    offset = random.randint(0, (x_len - 1407))\n",
    "    return x[:, offset:(offset + 1407)]\n",
    "from transformer import *"
   ]
  },
  {
   "cell_type": "code",
   "execution_count": 12,
   "metadata": {},
   "outputs": [],
   "source": [
    "import math\n",
    "import random\n",
    "import numpy as np\n",
    "from PIL import Image\n",
    "\n",
    "\n",
    "def resize(img, size, interpolation=Image.BILINEAR):\n",
    "    r\"\"\"Resize the input PIL Image to the given size.\n",
    "    Args:\n",
    "        img (PIL Image): Image to be resized.\n",
    "        size (sequence or int): Desired output size. If size is a sequence like\n",
    "            (h, w), the output size will be matched to this. If size is an int,\n",
    "            the smaller edge of the image will be matched to this number maintaing\n",
    "            the aspect ratio. i.e, if height > width, then image will be rescaled to\n",
    "            :math:`\\left(\\text{size} \\times \\frac{\\text{height}}{\\text{width}}, \\text{size}\\right)`\n",
    "        interpolation (int, optional): Desired interpolation. Default is\n",
    "            ``PIL.Image.BILINEAR``\n",
    "    Returns:\n",
    "        PIL Image: Resized image.\n",
    "    \"\"\"\n",
    "    if isinstance(size, int):\n",
    "        w, h = img.size\n",
    "        if (w <= h and w == size) or (h <= w and h == size):\n",
    "            return img\n",
    "        if w < h:\n",
    "            ow = size\n",
    "            oh = int(size * h / w)\n",
    "            return img.resize((ow, oh), interpolation)\n",
    "        else:\n",
    "            oh = size\n",
    "            ow = int(size * w / h)\n",
    "            return img.resize((ow, oh), interpolation)\n",
    "    else:\n",
    "        return img.resize(size[::-1], interpolation)\n",
    "\n",
    "\n",
    "def crop(img, i, j, h, w):\n",
    "    \"\"\"Crop the given PIL Image.\n",
    "    Args:\n",
    "        img (PIL Image): Image to be cropped.\n",
    "        i (int): i in (i,j) i.e coordinates of the upper left corner.\n",
    "        j (int): j in (i,j) i.e coordinates of the upper left corner.\n",
    "        h (int): Height of the cropped image.\n",
    "        w (int): Width of the cropped image.\n",
    "    Returns:\n",
    "        PIL Image: Cropped image.\n",
    "    \"\"\"\n",
    "    return img.crop((j, i, j + w, i + h))\n",
    "\n",
    "\n",
    "def resized_crop(img, i, j, h, w, size, interpolation=Image.BILINEAR):\n",
    "    \"\"\"Crop the given PIL Image and resize it to desired size.\n",
    "    Notably used in :class:`~torchvision.transforms.RandomResizedCrop`.\n",
    "    Args:\n",
    "        img (PIL Image): Image to be cropped.\n",
    "        i (int): i in (i,j) i.e coordinates of the upper left corner\n",
    "        j (int): j in (i,j) i.e coordinates of the upper left corner\n",
    "        h (int): Height of the cropped image.\n",
    "        w (int): Width of the cropped image.\n",
    "        size (sequence or int): Desired output size. Same semantics as ``resize``.\n",
    "        interpolation (int, optional): Desired interpolation. Default is\n",
    "            ``PIL.Image.BILINEAR``.\n",
    "    Returns:\n",
    "        PIL Image: Cropped image.\n",
    "    \"\"\"\n",
    "    img = crop(img, i, j, h, w)\n",
    "    img = resize(img, size, interpolation)\n",
    "    return img\n",
    "\n",
    "\n",
    "class RandomResizedCrop(object):\n",
    "    \"\"\"Crop the given PIL Image to random size and aspect ratio.\n",
    "    A crop of random size (default: of 0.08 to 1.0) of the original size and a random\n",
    "    aspect ratio (default: of 3/4 to 4/3) of the original aspect ratio is made. This crop\n",
    "    is finally resized to given size.\n",
    "    This is popularly used to train the Inception networks.\n",
    "    Args:\n",
    "        size: expected output size of each edge\n",
    "        scale: range of size of the origin size cropped\n",
    "        ratio: range of aspect ratio of the origin aspect ratio cropped\n",
    "        interpolation: Default: PIL.Image.BILINEAR\n",
    "    \"\"\"\n",
    "\n",
    "    def __init__(self, size=None, scale=(0.08, 1.0), ratio=(3. / 4., 4. / 3.), interpolation=Image.BILINEAR):\n",
    "        if isinstance(size, tuple) or size is None:\n",
    "            self.size = size\n",
    "        else:\n",
    "            self.size = (size, size)\n",
    "        if (scale[0] > scale[1]) or (ratio[0] > ratio[1]):\n",
    "            warnings.warn(\"range should be of kind (min, max)\")\n",
    "\n",
    "        self.interpolation = interpolation\n",
    "        self.scale = scale\n",
    "        self.ratio = ratio\n",
    "\n",
    "    @staticmethod\n",
    "    def get_params(img, scale, ratio):\n",
    "        \"\"\"Get parameters for ``crop`` for a random sized crop.\n",
    "        Args:\n",
    "            img (PIL Image): Image to be cropped.\n",
    "            scale (tuple): range of size of the origin size cropped\n",
    "            ratio (tuple): range of aspect ratio of the origin aspect ratio cropped\n",
    "        Returns:\n",
    "            tuple: params (i, j, h, w) to be passed to ``crop`` for a random\n",
    "                sized crop.\n",
    "        \"\"\"\n",
    "        area = img.size[0] * img.size[1]\n",
    "\n",
    "        for attempt in range(10):\n",
    "            target_area = random.uniform(*scale) * area\n",
    "            log_ratio = (math.log(ratio[0]), math.log(ratio[1]))\n",
    "            aspect_ratio = math.exp(random.uniform(*log_ratio))\n",
    "\n",
    "            w = int(round(math.sqrt(target_area * aspect_ratio)))\n",
    "            h = int(round(math.sqrt(target_area / aspect_ratio)))\n",
    "\n",
    "            if w <= img.size[0] and h <= img.size[1]:\n",
    "                i = random.randint(0, img.size[1] - h)\n",
    "                j = random.randint(0, img.size[0] - w)\n",
    "                return i, j, h, w\n",
    "\n",
    "        # Fallback to central crop\n",
    "        in_ratio = img.size[0] / img.size[1]\n",
    "        if (in_ratio < min(ratio)):\n",
    "            w = img.size[0]\n",
    "            h = w / min(ratio)\n",
    "        elif (in_ratio > max(ratio)):\n",
    "            h = img.size[1]\n",
    "            w = h * max(ratio)\n",
    "        else:  # whole image\n",
    "            w = img.size[0]\n",
    "            h = img.size[1]\n",
    "        i = (img.size[1] - h) // 2\n",
    "        j = (img.size[0] - w) // 2\n",
    "        return i, j, h, w\n",
    "\n",
    "    def __call__(self, np_image):\n",
    "        \"\"\"\n",
    "        Args:\n",
    "            img (PIL Image): Image to be cropped and resized.\n",
    "        Returns:\n",
    "            PIL Image: Randomly cropped and resized image.\n",
    "        \"\"\"\n",
    "\n",
    "        if self.size is None:\n",
    "            size = np_image.shape\n",
    "        else:\n",
    "            size = self.size\n",
    "\n",
    "        image = Image.fromarray(np_image)\n",
    "        i, j, h, w = self.get_params(image, self.scale, self.ratio)\n",
    "        image = resized_crop(image, i, j, h, w, size, self.interpolation)\n",
    "        np_image = np.array(image)\n",
    "        return np_image\n",
    "\n",
    "    def __repr__(self):\n",
    "        interpolate_str = _pil_interpolation_to_str[self.interpolation]\n",
    "        format_string = self.__class__.__name__ + '(size={0}'.format(self.size)\n",
    "        format_string += ', scale={0}'.format(tuple(round(s, 4) for s in self.scale))\n",
    "        format_string += ', ratio={0}'.format(tuple(round(r, 4) for r in self.ratio))\n",
    "        format_string += ', interpolation={0})'.format(interpolate_str)\n",
    "        return format_string"
   ]
  },
  {
   "cell_type": "code",
   "execution_count": 13,
   "metadata": {},
   "outputs": [],
   "source": [
    "import cv2\n",
    "import torch\n",
    "import random\n",
    "import librosa\n",
    "import numpy as np\n",
    "\n",
    "#from random_resized_crop import RandomResizedCrop\n",
    "\n",
    "cv2.setNumThreads(0)\n",
    "\n",
    "\n",
    "def image_crop(image, bbox):\n",
    "    return image[bbox[1]:bbox[3], bbox[0]:bbox[2]]\n",
    "\n",
    "\n",
    "def gauss_noise(image, sigma_sq):\n",
    "    h, w = image.shape\n",
    "    gauss = np.random.normal(0, sigma_sq, (h, w))\n",
    "    gauss = gauss.reshape(h, w)\n",
    "    image = image + gauss\n",
    "    return image\n",
    "\n",
    "\n",
    "# Source: https://www.kaggle.com/davids1992/specaugment-quick-implementation\n",
    "def spec_augment(spec: np.ndarray,\n",
    "                 num_mask=2,\n",
    "                 freq_masking=0.15,\n",
    "                 time_masking=0.20,\n",
    "                 value=0):\n",
    "    spec = spec.copy()\n",
    "    num_mask = random.randint(1, num_mask)\n",
    "    for i in range(num_mask):\n",
    "        all_freqs_num, all_frames_num  = spec.shape\n",
    "        freq_percentage = random.uniform(0.0, freq_masking)\n",
    "\n",
    "        num_freqs_to_mask = int(freq_percentage * all_freqs_num)\n",
    "        f0 = np.random.uniform(low=0.0, high=all_freqs_num - num_freqs_to_mask)\n",
    "        f0 = int(f0)\n",
    "        spec[f0:f0 + num_freqs_to_mask, :] = value\n",
    "\n",
    "        time_percentage = random.uniform(0.0, time_masking)\n",
    "\n",
    "        num_frames_to_mask = int(time_percentage * all_frames_num)\n",
    "        t0 = np.random.uniform(low=0.0, high=all_frames_num - num_frames_to_mask)\n",
    "        t0 = int(t0)\n",
    "        spec[:, t0:t0 + num_frames_to_mask] = value\n",
    "    return spec\n",
    "\n",
    "\n",
    "class SpecAugment:\n",
    "    def __init__(self,\n",
    "                 num_mask=2,\n",
    "                 freq_masking=0.15,\n",
    "                 time_masking=0.20):\n",
    "        self.num_mask = num_mask\n",
    "        self.freq_masking = freq_masking\n",
    "        self.time_masking = time_masking\n",
    "\n",
    "    def __call__(self, image):\n",
    "        return spec_augment(image,\n",
    "                            self.num_mask,\n",
    "                            self.freq_masking,\n",
    "                            self.time_masking,\n",
    "                            image.min())\n",
    "\n",
    "\n",
    "class Compose:\n",
    "    def __init__(self, transforms):\n",
    "        self.transforms = transforms\n",
    "\n",
    "    def __call__(self, image, trg=None):\n",
    "        if trg is None:\n",
    "            for t in self.transforms:\n",
    "                image = t(image)\n",
    "            return image\n",
    "        else:\n",
    "            for t in self.transforms:\n",
    "                image, trg = t(image, trg)\n",
    "            return image, trg\n",
    "\n",
    "\n",
    "class UseWithProb:\n",
    "    def __init__(self, transform, prob=.5):\n",
    "        self.transform = transform\n",
    "        self.prob = prob\n",
    "\n",
    "    def __call__(self, image, trg=None):\n",
    "        if trg is None:\n",
    "            if random.random() < self.prob:\n",
    "                image = self.transform(image)\n",
    "            return image\n",
    "        else:\n",
    "            if random.random() < self.prob:\n",
    "                image, trg = self.transform(image, trg)\n",
    "            return image, trg\n",
    "\n",
    "\n",
    "class OneOf:\n",
    "    def __init__(self, transforms, p=None):\n",
    "        self.transforms = transforms\n",
    "        self.p = p\n",
    "\n",
    "    def __call__(self, image, trg=None):\n",
    "        transform = np.random.choice(self.transforms, p=self.p)\n",
    "        if trg is None:\n",
    "            image = transform(image)\n",
    "            return image\n",
    "        else:\n",
    "            image, trg = transform(image, trg)\n",
    "            return image, trg\n",
    "\n",
    "\n",
    "class Flip:\n",
    "    def __init__(self, flip_code):\n",
    "        assert flip_code == 0 or flip_code == 1\n",
    "        self.flip_code = flip_code\n",
    "\n",
    "    def __call__(self, image):\n",
    "        image = cv2.flip(image, self.flip_code)\n",
    "        return image\n",
    "\n",
    "\n",
    "class HorizontalFlip(Flip):\n",
    "    def __init__(self):\n",
    "        super().__init__(1)\n",
    "\n",
    "\n",
    "class VerticalFlip(Flip):\n",
    "    def __init__(self):\n",
    "        super().__init__(0)\n",
    "\n",
    "\n",
    "class GaussNoise:\n",
    "    def __init__(self, sigma_sq):\n",
    "        self.sigma_sq = sigma_sq\n",
    "\n",
    "    def __call__(self, image):\n",
    "        if self.sigma_sq > 0.0:\n",
    "            image = gauss_noise(image,\n",
    "                                np.random.uniform(0, self.sigma_sq))\n",
    "        return image\n",
    "\n",
    "\n",
    "class RandomGaussianBlur:\n",
    "    '''Apply Gaussian blur with random kernel size\n",
    "    Args:\n",
    "        max_ksize (int): maximal size of a kernel to apply, should be odd\n",
    "        sigma_x (int): Standard deviation\n",
    "    '''\n",
    "    def __init__(self, max_ksize=5, sigma_x=20):\n",
    "        assert max_ksize % 2 == 1, \"max_ksize should be odd\"\n",
    "        self.max_ksize = max_ksize // 2 + 1\n",
    "        self.sigma_x = sigma_x\n",
    "\n",
    "    def __call__(self, image):\n",
    "        kernel_size = tuple(2 * np.random.randint(0, self.max_ksize, 2) + 1)\n",
    "        blured_image = cv2.GaussianBlur(image, kernel_size, self.sigma_x)\n",
    "        return blured_image\n",
    "\n",
    "\n",
    "class ImageToTensor:\n",
    "    def __call__(self, image):\n",
    "        #delta = librosa.feature.delta(image)\n",
    "        #accelerate = librosa.feature.delta(image, order=2)\n",
    "        #image = np.stack([image, delta, accelerate], axis=0)\n",
    "        image = image[None, :, :]\n",
    "        image = image.astype(np.float32) / 100\n",
    "        image = torch.from_numpy(image)\n",
    "        return image\n",
    "\n",
    "\n",
    "class RandomCrop:\n",
    "    def __init__(self, size):\n",
    "        self.size = size\n",
    "\n",
    "    def __call__(self, signal):\n",
    "        start = random.randint(0, signal.shape[1] - self.size)\n",
    "        return signal[:, start: start + self.size]\n",
    "\n",
    "\n",
    "class CenterCrop:\n",
    "    def __init__(self, size):\n",
    "        self.size = size\n",
    "\n",
    "    def __call__(self, signal):\n",
    "\n",
    "        if signal.shape[1] > self.size:\n",
    "            start = (signal.shape[1] - self.size) // 2\n",
    "            return signal[:, start: start + self.size]\n",
    "        else:\n",
    "            return signal\n",
    "\n",
    "\n",
    "class PadToSize:\n",
    "    def __init__(self, size, mode='constant'):\n",
    "        assert mode in ['constant', 'wrap']\n",
    "        self.size = size\n",
    "        self.mode = mode\n",
    "\n",
    "    def __call__(self, signal):\n",
    "        if signal.shape[1] < self.size:\n",
    "            padding = self.size - signal.shape[1]\n",
    "            offset = padding // 2\n",
    "            pad_width = ((0, 0), (offset, padding - offset))\n",
    "            if self.mode == 'constant':\n",
    "                signal = np.pad(signal, pad_width,\n",
    "                                'constant', constant_values=signal.min())\n",
    "            else:\n",
    "                signal = np.pad(signal, pad_width, 'wrap')\n",
    "        return signal\n",
    "\n",
    "\n",
    "def get_transforms(train, size,\n",
    "                   wrap_pad_prob=0.5,\n",
    "                   resize_scale=(0.8, 1.0),\n",
    "                   resize_ratio=(1.7, 2.3),\n",
    "                   resize_prob=0.33,\n",
    "                   spec_num_mask=2,\n",
    "                   spec_freq_masking=0.15,\n",
    "                   spec_time_masking=0.20,\n",
    "                   spec_prob=0.5):\n",
    "    if train:\n",
    "        transforms = Compose([\n",
    "            OneOf([\n",
    "                PadToSize(size, mode='wrap'),\n",
    "                PadToSize(size, mode='constant'),\n",
    "            ], p=[wrap_pad_prob, 1 - wrap_pad_prob]),\n",
    "            RandomCrop(size),\n",
    "            UseWithProb(\n",
    "                RandomResizedCrop(scale=resize_scale, ratio=resize_ratio),\n",
    "                prob=resize_prob\n",
    "            ),\n",
    "            UseWithProb(SpecAugment(num_mask=spec_num_mask,\n",
    "                                    freq_masking=spec_freq_masking,\n",
    "                                    time_masking=spec_time_masking), spec_prob),\n",
    "            ImageToTensor()\n",
    "        ])\n",
    "    else:\n",
    "        transforms = Compose([\n",
    "            PadToSize(size),\n",
    "            CenterCrop(size),\n",
    "            ImageToTensor()\n",
    "        ])\n",
    "    return transforms"
   ]
  },
  {
   "cell_type": "code",
   "execution_count": 14,
   "metadata": {},
   "outputs": [],
   "source": [
    "train_transform = get_transforms(\n",
    "    train=True,\n",
    "    size=6590,\n",
    "    wrap_pad_prob=0.5,\n",
    "    resize_scale=(0.8, 1.0),\n",
    "    resize_ratio=(1.7, 2.3),\n",
    "    resize_prob=0.33,\n",
    "    spec_num_mask=2,\n",
    "    spec_freq_masking=0.15,\n",
    "    spec_time_masking=0.20,\n",
    "    spec_prob=0.5\n",
    ")\n",
    "val_transform = get_transforms(False, 6590)"
   ]
  },
  {
   "cell_type": "code",
   "execution_count": 15,
   "metadata": {},
   "outputs": [],
   "source": [
    "class AudioDataset(Dataset):\n",
    "    \n",
    "    def __init__(self, df, transform=None):\n",
    "        self.df = df\n",
    "        self.transform = transform\n",
    "    \n",
    "    def __len__(self):\n",
    "        return self.df.shape[0]\n",
    "    \n",
    "    def __getitem__(self, idx):\n",
    "        \n",
    "        this_file = self.df.index[idx]\n",
    "        sample = np.load('../melspecdataset/{}.npy'.format(this_file))\n",
    "        \n",
    "        image = sample\n",
    "                \n",
    "        if self.transform is not None:\n",
    "            image = self.transform(image)\n",
    "        \n",
    "        return image, torch.Tensor(self.df.values[idx])"
   ]
  },
  {
   "cell_type": "code",
   "execution_count": 16,
   "metadata": {},
   "outputs": [],
   "source": [
    "train_dataset = AudioDataset(train_df, train_transform)\n",
    "valid_dataset = AudioDataset(valid_df, val_transform)\n",
    "test_dataset = AudioDataset(test_df, val_transform)"
   ]
  },
  {
   "cell_type": "code",
   "execution_count": 17,
   "metadata": {},
   "outputs": [
    {
     "data": {
      "text/plain": [
       "(torch.Size([1, 96, 6590]), torch.Size([56]))"
      ]
     },
     "execution_count": 17,
     "metadata": {},
     "output_type": "execute_result"
    }
   ],
   "source": [
    "train_dataset[100][0].shape, train_dataset[100][1].shape"
   ]
  },
  {
   "cell_type": "code",
   "execution_count": 18,
   "metadata": {},
   "outputs": [
    {
     "data": {
      "image/png": "[encoded data removed]",
      "text/plain": [
       "<Figure size 432x288 with 2 Axes>"
      ]
     },
     "metadata": {
      "needs_background": "light"
     },
     "output_type": "display_data"
    }
   ],
   "source": [
    "import seaborn as sns\n",
    "sns.heatmap(train_dataset[100][0][0,:,:].numpy());"
   ]
  },
  {
   "cell_type": "code",
   "execution_count": 19,
   "metadata": {},
   "outputs": [
    {
     "data": {
      "image/png": "[encoded data removed]",
      "text/plain": [
       "<Figure size 432x288 with 2 Axes>"
      ]
     },
     "metadata": {
      "needs_background": "light"
     },
     "output_type": "display_data"
    }
   ],
   "source": [
    "sns.heatmap(valid_dataset[100][0][0,:,:].numpy());"
   ]
  },
  {
   "cell_type": "code",
   "execution_count": 20,
   "metadata": {},
   "outputs": [],
   "source": [
    "import torchvision.models\n",
    "\n",
    "class Model(nn.Module):\n",
    "    \n",
    "    def __init__(self):\n",
    "        \n",
    "        super().__init__()\n",
    "        \n",
    "        self.bw2col = nn.Sequential(\n",
    "            nn.BatchNorm2d(1),\n",
    "            nn.Conv2d(1, 10, 1, padding=0), nn.ReLU(),\n",
    "            nn.Conv2d(10, 3, 1, padding=0), nn.ReLU())\n",
    "        \n",
    "        self.mv2 = torchvision.models.resnet18(pretrained=True)\n",
    "        \n",
    "        self.my_model1 = nn.Sequential(*list(self.mv2.children())[:-1])\n",
    "        \n",
    "        self.mv2.classifier = nn.Sequential(\n",
    "            nn.Dropout(0.2),\n",
    "            nn.Linear(512, 56),\n",
    "        )\n",
    "    \n",
    "    def forward(self, x):\n",
    "        x = self.bw2col(x)\n",
    "        x = self.my_model1(x)\n",
    "        x = x.mean([2, 3])\n",
    "        x = self.mv2.classifier(x)\n",
    "        return x"
   ]
  },
  {
   "cell_type": "code",
   "execution_count": 21,
   "metadata": {},
   "outputs": [
    {
     "name": "stdout",
     "output_type": "stream",
     "text": [
      "Device:  cuda:0\n"
     ]
    }
   ],
   "source": [
    "cuda=True\n",
    "device = torch.device('cuda:0' if cuda else 'cpu')\n",
    "print('Device: ', device)"
   ]
  },
  {
   "cell_type": "code",
   "execution_count": 22,
   "metadata": {},
   "outputs": [],
   "source": [
    "model = Model().to(device)\n",
    "optimizer = optim.Adam(model.parameters(), lr=0.001, amsgrad=True)\n",
    "scheduler = optim.lr_scheduler.ReduceLROnPlateau(optimizer, patience=5, verbose=True)\n",
    "criterion = nn.BCEWithLogitsLoss(reduction='none')"
   ]
  },
  {
   "cell_type": "code",
   "execution_count": 23,
   "metadata": {},
   "outputs": [],
   "source": [
    "val_loader = DataLoader(valid_dataset, 4, shuffle=False)\n",
    "train_loader_1 = DataLoader(train_dataset, 4, shuffle=True, drop_last=True)\n",
    "train_loader_2 = DataLoader(train_dataset, 4, shuffle=True, drop_last=True)"
   ]
  },
  {
   "cell_type": "code",
   "execution_count": 24,
   "metadata": {},
   "outputs": [],
   "source": [
    "epochs = 100"
   ]
  },
  {
   "cell_type": "code",
   "execution_count": 37,
   "metadata": {},
   "outputs": [
    {
     "name": "stdout",
     "output_type": "stream",
     "text": [
      "Epoch:  0\n"
     ]
    },
    {
     "ename": "KeyboardInterrupt",
     "evalue": "",
     "output_type": "error",
     "traceback": [
      "\u001b[1;31m---------------------------------------------------------------------------\u001b[0m",
      "\u001b[1;31mKeyboardInterrupt\u001b[0m                         Traceback (most recent call last)",
      "\u001b[1;32m<ipython-input-37-c26a634793c9>\u001b[0m in \u001b[0;36m<module>\u001b[1;34m\u001b[0m\n\u001b[0;32m     46\u001b[0m             \u001b[0moptimizer\u001b[0m\u001b[1;33m.\u001b[0m\u001b[0mstep\u001b[0m\u001b[1;33m(\u001b[0m\u001b[1;33m)\u001b[0m\u001b[1;33m\u001b[0m\u001b[1;33m\u001b[0m\u001b[0m\n\u001b[0;32m     47\u001b[0m \u001b[1;33m\u001b[0m\u001b[0m\n\u001b[1;32m---> 48\u001b[1;33m             \u001b[0mloss_val\u001b[0m \u001b[1;33m=\u001b[0m \u001b[0mtotal_loss\u001b[0m\u001b[1;33m.\u001b[0m\u001b[0mdetach\u001b[0m\u001b[1;33m(\u001b[0m\u001b[1;33m)\u001b[0m\u001b[1;33m.\u001b[0m\u001b[0mcpu\u001b[0m\u001b[1;33m(\u001b[0m\u001b[1;33m)\u001b[0m\u001b[1;33m.\u001b[0m\u001b[0mnumpy\u001b[0m\u001b[1;33m(\u001b[0m\u001b[1;33m)\u001b[0m\u001b[1;33m\u001b[0m\u001b[1;33m\u001b[0m\u001b[0m\n\u001b[0m\u001b[0;32m     49\u001b[0m             \u001b[0mloss_val_each_class\u001b[0m \u001b[1;33m=\u001b[0m \u001b[0mloss\u001b[0m\u001b[1;33m.\u001b[0m\u001b[0mmean\u001b[0m\u001b[1;33m(\u001b[0m\u001b[0mdim\u001b[0m\u001b[1;33m=\u001b[0m\u001b[1;36m0\u001b[0m\u001b[1;33m)\u001b[0m\u001b[1;33m.\u001b[0m\u001b[0mdetach\u001b[0m\u001b[1;33m(\u001b[0m\u001b[1;33m)\u001b[0m\u001b[1;33m.\u001b[0m\u001b[0mcpu\u001b[0m\u001b[1;33m(\u001b[0m\u001b[1;33m)\u001b[0m\u001b[1;33m.\u001b[0m\u001b[0mnumpy\u001b[0m\u001b[1;33m(\u001b[0m\u001b[1;33m)\u001b[0m\u001b[1;33m\u001b[0m\u001b[1;33m\u001b[0m\u001b[0m\n\u001b[0;32m     50\u001b[0m \u001b[1;33m\u001b[0m\u001b[0m\n",
      "\u001b[1;31mKeyboardInterrupt\u001b[0m: "
     ]
    }
   ],
   "source": [
    "train_loss_hist = []\n",
    "train_loss_hist_each_class = []\n",
    "\n",
    "valid_loss_hist = []\n",
    "valid_loss_hist_each_class = []\n",
    "\n",
    "lowest_val_loss = np.inf\n",
    "lowest_val_loss_each_class = np.array([float('inf') for _ in range(56)])\n",
    "epochs_without_new_lowest = 0\n",
    "k=0\n",
    "\n",
    "for j in range(epochs):\n",
    "    print('Epoch: ', j)\n",
    "    \n",
    "    this_epoch_train_loss = 0\n",
    "    this_epoch_train_loss_each_class = np.zeros(56)\n",
    "    #model.init_hidden()\n",
    "    for i1, i2 in zip(train_loader_1, train_loader_2):\n",
    "        \n",
    "        k+=1\n",
    "        #print('running set {} of epoch {}'.format(k,i))\n",
    "        # mixup---------\n",
    "        alpha = 1\n",
    "        mixup_vals = np.random.beta(alpha, alpha, i1[0].shape[0])\n",
    "        \n",
    "        lam = torch.Tensor(mixup_vals.reshape(mixup_vals.shape[0], 1, 1, 1))\n",
    "        inputs = (lam * i1[0]) + ((1 - lam) * i2[0])\n",
    "        \n",
    "        lam = torch.Tensor(mixup_vals.reshape(mixup_vals.shape[0], 1))\n",
    "        labels = (lam * i1[1]) + ((1 - lam) * i2[1])\n",
    "        # mixup ends ----------\n",
    "        \n",
    "        # https://stackoverflow.com/questions/55563376/pytorch-how-does-pin-memory-works-in-dataloader\n",
    "        inputs = inputs.to(device, non_blocking=False)\n",
    "        labels = labels.to(device, non_blocking=False)\n",
    "        \n",
    "        \n",
    "        optimizer.zero_grad()\n",
    "        with torch.set_grad_enabled(True):\n",
    "            model = model.train()\n",
    "            outputs = model(inputs)\n",
    "            \n",
    "            loss = criterion(outputs, labels)\n",
    "            total_loss = loss.mean(dim=0).mean(dim=0)\n",
    "            total_loss.backward()\n",
    "            optimizer.step()\n",
    "            \n",
    "            loss_val = total_loss.detach().cpu().numpy()\n",
    "            loss_val_each_class = loss.mean(dim=0).detach().cpu().numpy()\n",
    "            \n",
    "            this_epoch_train_loss += loss_val\n",
    "            this_epoch_train_loss_each_class += loss_val_each_class\n",
    "    \n",
    "    this_epoch_valid_loss = 0\n",
    "    this_epoch_valid_loss_each_class = np.zeros(56)\n",
    "    for inputs, labels in val_loader:\n",
    "        \n",
    "        inputs = inputs.to(device)\n",
    "        labels = labels.to(device)\n",
    "        \n",
    "        optimizer.zero_grad()\n",
    "        with torch.set_grad_enabled(False):\n",
    "            model = model.eval()\n",
    "            outputs = model(inputs)\n",
    "            \n",
    "            loss = criterion(outputs, labels)\n",
    "            \n",
    "            loss_val = loss.mean(dim=0).mean(dim=0).detach().cpu().numpy()\n",
    "            loss_val_each_class = loss.mean(dim=0).detach().cpu().numpy()\n",
    "            \n",
    "            this_epoch_valid_loss += loss_val\n",
    "            this_epoch_valid_loss_each_class += loss_val_each_class\n",
    "    \n",
    "    this_epoch_train_loss /= len(train_loader_1)\n",
    "    this_epoch_train_loss_each_class /= len(train_loader_1)\n",
    "    \n",
    "    this_epoch_valid_loss /= len(val_loader)\n",
    "    this_epoch_valid_loss_each_class /= len(val_loader)\n",
    "    \n",
    "    train_loss_hist.append(this_epoch_train_loss)\n",
    "    train_loss_hist_each_class.append(this_epoch_train_loss_each_class)\n",
    "    valid_loss_hist.append(this_epoch_valid_loss)\n",
    "    valid_loss_hist_each_class.append(this_epoch_valid_loss_each_class)\n",
    "    \n",
    "    if this_epoch_valid_loss < lowest_val_loss:\n",
    "        lowest_val_loss = this_epoch_valid_loss\n",
    "        torch.save(model.state_dict(), './model2')\n",
    "        epochs_without_new_lowest = 0\n",
    "    else:\n",
    "        epochs_without_new_lowest += 1\n",
    "    \n",
    "    for i in range(56):\n",
    "        if this_epoch_valid_loss_each_class[i] < lowest_val_loss_each_class[i]:\n",
    "            lowest_val_loss_each_class[i] = this_epoch_valid_loss_each_class[i]\n",
    "            torch.save(model.state_dict(), './model2_c{}'.format(i))\n",
    "    \n",
    "    if epochs_without_new_lowest >= 25 or j > 25:\n",
    "        send('Training Complete')\n",
    "        break\n",
    "    print(this_epoch_train_loss, this_epoch_valid_loss)\n",
    "    send('epoch number {} done, train loss = {}, valid loss = {}'.format(j,this_epoch_train_loss, this_epoch_valid_loss))\n",
    "    \n",
    "    scheduler.step(this_epoch_valid_loss)"
   ]
  },
  {
   "cell_type": "code",
   "execution_count": 26,
   "metadata": {},
   "outputs": [
    {
     "data": {
      "image/png": "[encoded data removed]",
      "text/plain": [
       "<Figure size 432x288 with 1 Axes>"
      ]
     },
     "metadata": {
      "needs_background": "light"
     },
     "output_type": "display_data"
    }
   ],
   "source": [
    "plt.plot(train_loss_hist, label = 'train loss')\n",
    "plt.plot(valid_loss_hist, label = 'valid loss')\n",
    "plt.legend()\n",
    "plt.show()"
   ]
  },
  {
   "cell_type": "code",
   "execution_count": 27,
   "metadata": {},
   "outputs": [],
   "source": [
    "this_epoch_valid_loss = 0\n",
    "all_outputs = []\n",
    "all_inputs = []\n",
    "for inputs, labels in val_loader:\n",
    "    \n",
    "    inputs = inputs.to(device)\n",
    "    labels = labels.to(device)\n",
    "    \n",
    "    optimizer.zero_grad()\n",
    "    with torch.set_grad_enabled(False):\n",
    "        model = model.eval()\n",
    "        outputs = model(inputs)\n",
    "        \n",
    "        loss = criterion(outputs, labels)\n",
    "        loss_val = loss.mean(dim=0).mean(dim=0).detach().cpu().numpy()\n",
    "        this_epoch_valid_loss += loss_val\n",
    "        \n",
    "        all_outputs.append(outputs.detach().cpu().numpy())\n",
    "        all_inputs.append(labels.detach().cpu().numpy())\n",
    "        \n",
    "\n",
    "this_epoch_valid_loss /= len(val_loader)"
   ]
  },
  {
   "cell_type": "code",
   "execution_count": 28,
   "metadata": {},
   "outputs": [],
   "source": [
    "all_outputs = np.concatenate(all_outputs, axis=0)\n",
    "all_inputs  = np.concatenate(all_inputs,  axis=0)"
   ]
  },
  {
   "cell_type": "code",
   "execution_count": 29,
   "metadata": {},
   "outputs": [],
   "source": [
    "all_outputs = 1 / (1 + np.exp(-all_outputs))"
   ]
  },
  {
   "cell_type": "code",
   "execution_count": 30,
   "metadata": {},
   "outputs": [],
   "source": [
    "from sklearn.metrics import roc_auc_score, average_precision_score"
   ]
  },
  {
   "cell_type": "code",
   "execution_count": 31,
   "metadata": {},
   "outputs": [
    {
     "data": {
      "text/plain": [
       "0.6504963413667522"
      ]
     },
     "execution_count": 31,
     "metadata": {},
     "output_type": "execute_result"
    }
   ],
   "source": [
    "roc_auc_score(all_inputs, all_outputs, average='macro')"
   ]
  },
  {
   "cell_type": "code",
   "execution_count": 32,
   "metadata": {},
   "outputs": [
    {
     "data": {
      "text/plain": [
       "0.059799680283120056"
      ]
     },
     "execution_count": 32,
     "metadata": {},
     "output_type": "execute_result"
    }
   ],
   "source": [
    "average_precision_score(all_inputs, all_outputs, average='macro')"
   ]
  },
  {
   "cell_type": "code",
   "execution_count": 33,
   "metadata": {},
   "outputs": [],
   "source": [
    "from sklearn.metrics import precision_recall_curve"
   ]
  },
  {
   "cell_type": "code",
   "execution_count": 34,
   "metadata": {},
   "outputs": [
    {
     "name": "stderr",
     "output_type": "stream",
     "text": [
      "C:\\Users\\Admin\\Anaconda3\\lib\\site-packages\\ipykernel_launcher.py:5: RuntimeWarning: invalid value encountered in true_divide\n",
      "  \"\"\"\n"
     ]
    },
    {
     "name": "stdout",
     "output_type": "stream",
     "text": [
      "[0.07054047 0.07140954 0.07142857 ... 0.         0.         0.        ]\n"
     ]
    }
   ],
   "source": [
    "# Optimized macro F-score\n",
    "thresholds = {}\n",
    "for i in range(56):\n",
    "    precision, recall, threshold = precision_recall_curve(all_inputs[:, i], all_outputs[:, i])\n",
    "    f_score = np.nan_to_num((2 * precision * recall) / (precision + recall))\n",
    "    thresholds[i] = threshold[np.argmax(f_score)]\n",
    "print(f_score)"
   ]
  },
  {
   "cell_type": "code",
   "execution_count": 35,
   "metadata": {},
   "outputs": [],
   "source": [
    "import dill\n",
    "dill.dump_session('model2_env.db')"
   ]
  },
  {
   "cell_type": "code",
   "execution_count": 36,
   "metadata": {},
   "outputs": [],
   "source": [
    "send('resnet18 done probs')"
   ]
  },
  {
   "cell_type": "code",
   "execution_count": null,
   "metadata": {},
   "outputs": [],
   "source": []
  }
 ],
 "metadata": {
  "kernelspec": {
   "display_name": "Python 3",
   "language": "python",
   "name": "python3"
  },
  "language_info": {
   "codemirror_mode": {
    "name": "ipython",
    "version": 3
   },
   "file_extension": ".py",
   "mimetype": "text/x-python",
   "name": "python",
   "nbconvert_exporter": "python",
   "pygments_lexer": "ipython3",
   "version": "3.7.3"
  }
 },
 "nbformat": 4,
 "nbformat_minor": 2
}
