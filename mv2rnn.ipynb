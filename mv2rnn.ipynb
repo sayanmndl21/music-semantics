{
 "cells": [
  {
   "cell_type": "code",
   "execution_count": 1,
   "metadata": {},
   "outputs": [],
   "source": [
    "from IPython.core.interactiveshell import InteractiveShell\n",
    "InteractiveShell.ast_node_interactivity = 'all'"
   ]
  },
  {
   "cell_type": "code",
   "execution_count": 2,
   "metadata": {},
   "outputs": [],
   "source": [
    "import gzip\n",
    "import pickle\n",
    "import numpy as np\n",
    "import pandas as pd\n",
    "import matplotlib.pyplot as plt\n",
    "%matplotlib inline\n",
    "\n",
    "import torch\n",
    "import torch.nn as nn\n",
    "import torch.nn.functional as F\n",
    "import torch.optim as optim\n",
    "from torch.utils.data import Dataset, DataLoader, TensorDataset\n",
    "torch.set_num_threads(7)\n",
    "from commons import *\n",
    "from SMS import *"
   ]
  },
  {
   "cell_type": "code",
   "execution_count": 3,
   "metadata": {},
   "outputs": [],
   "source": [
    "send('Hi')"
   ]
  },
  {
   "cell_type": "code",
   "execution_count": 4,
   "metadata": {},
   "outputs": [],
   "source": [
    "import csv\n",
    "\n",
    "CATEGORIES = ['genre', 'instrument', 'mood/theme']\n",
    "TAG_HYPHEN = '---'\n",
    "METADATA_DESCRIPTION = 'TSV file with such columns: TRACK_ID, ARTIST_ID, ALBUM_ID, PATH, DURATION, TAGS'\n",
    "\n",
    "\n",
    "def get_id(value):\n",
    "    return int(value.split('_')[1])\n",
    "\n",
    "\n",
    "def get_length(values):\n",
    "    return len(str(max(values)))\n",
    "\n",
    "\n",
    "def read_file(tsv_file):\n",
    "    tracks = {}\n",
    "    tags = {category: {} for category in CATEGORIES}\n",
    "\n",
    "    # For statistics\n",
    "    artist_ids = set()\n",
    "    albums_ids = set()\n",
    "\n",
    "    with open(tsv_file) as fp:\n",
    "        reader = csv.reader(fp, delimiter='\\t')\n",
    "        next(reader, None)  # skip header\n",
    "        for row in reader:\n",
    "            track_id = get_id(row[0])\n",
    "            tracks[track_id] = {\n",
    "                'artist_id': get_id(row[1]),\n",
    "                'album_id': get_id(row[2]),\n",
    "                'path': row[3],\n",
    "                'duration': float(row[4]),\n",
    "                'tags': row[5:],  # raw tags, not sure if will be used\n",
    "            }\n",
    "            tracks[track_id].update({category: set() for category in CATEGORIES})\n",
    "\n",
    "            artist_ids.add(get_id(row[1]))\n",
    "            albums_ids.add(get_id(row[2]))\n",
    "\n",
    "            for tag_str in row[5:]:\n",
    "                category, tag = tag_str.split(TAG_HYPHEN)\n",
    "\n",
    "                if tag not in tags[category]:\n",
    "                    tags[category][tag] = set()\n",
    "\n",
    "                tags[category][tag].add(track_id)\n",
    "\n",
    "                tracks[track_id][category].add(tag)\n",
    "\n",
    "    print(\"Reading: {} tracks, {} albums, {} artists\".format(len(tracks), len(albums_ids), len(artist_ids)))\n",
    "\n",
    "    extra = {\n",
    "        'track_id_length': get_length(tracks.keys()),\n",
    "        'artist_id_length': get_length(artist_ids),\n",
    "        'album_id_length': get_length(albums_ids)\n",
    "    }\n",
    "    return tracks, tags, extra\n",
    "\n",
    "\n",
    "def write_file(tracks, tsv_file, extra):\n",
    "    rows = []\n",
    "    for track_id, track in tracks.items():\n",
    "        row = [\n",
    "            'track_' + str(track_id).zfill(extra['track_id_length']),\n",
    "            'artist_' + str(track['artist_id']).zfill(extra['artist_id_length']),\n",
    "            'album_' + str(track['album_id']).zfill(extra['album_id_length']),\n",
    "            track['path'],\n",
    "            track['duration']\n",
    "        ]\n",
    "\n",
    "        tags = []\n",
    "        for category in CATEGORIES:\n",
    "            tags += [category + '---' + tag for tag in track[category]]\n",
    "\n",
    "        row += sorted(tags)\n",
    "        rows.append(row)\n",
    "\n",
    "    with open(tsv_file, 'w') as fp:\n",
    "        writer = csv.writer(fp, delimiter='\\t')\n",
    "        writer.writerow(['TRACK_ID', 'ARTIST_ID', 'ALBUM_ID', 'PATH', 'DURATION', 'TAGS'])\n",
    "        for row in rows:\n",
    "            writer.writerow(row)"
   ]
  },
  {
   "cell_type": "code",
   "execution_count": 5,
   "metadata": {},
   "outputs": [
    {
     "name": "stdout",
     "output_type": "stream",
     "text": [
      "Reading: 9949 tracks, 2471 albums, 874 artists\n",
      "Reading: 3802 tracks, 927 albums, 307 artists\n",
      "Reading: 4231 tracks, 1025 albums, 327 artists\n"
     ]
    }
   ],
   "source": [
    "train_info = read_file('../data/splits/split-0/autotagging_moodtheme-train.tsv')\n",
    "validation_info = read_file('../data/splits/split-0/autotagging_moodtheme-validation.tsv')\n",
    "test_info = read_file('../data/splits/split-0/autotagging_moodtheme-test.tsv')"
   ]
  },
  {
   "cell_type": "code",
   "execution_count": 6,
   "metadata": {},
   "outputs": [],
   "source": [
    "def parse(a_info):\n",
    "    ans = []\n",
    "    for k,v in a_info[1]['mood/theme'].items():\n",
    "        ans.append(pd.DataFrame({\n",
    "            k: 1,\n",
    "            'file': list(v)\n",
    "        }))\n",
    "\n",
    "    df = ans[0]\n",
    "    for x in ans[1:]:\n",
    "        df = pd.merge(df, x, on='file', how='outer')\n",
    "    df = df.set_index('file').fillna(0)\n",
    "    df.loc[:, :] = df.loc[:, :].astype('int64')\n",
    "    return df"
   ]
  },
  {
   "cell_type": "code",
   "execution_count": 7,
   "metadata": {},
   "outputs": [],
   "source": [
    "train_df = parse(train_info)\n",
    "valid_df = parse(validation_info)\n",
    "test_df = parse(test_info)"
   ]
  },
  {
   "cell_type": "code",
   "execution_count": 8,
   "metadata": {},
   "outputs": [
    {
     "data": {
      "text/plain": [
       "(4231, 56)"
      ]
     },
     "execution_count": 8,
     "metadata": {},
     "output_type": "execute_result"
    }
   ],
   "source": [
    "train_df.shape\n",
    "valid_df.shape\n",
    "test_df.shape"
   ]
  },
  {
   "cell_type": "code",
   "execution_count": 9,
   "metadata": {},
   "outputs": [
    {
     "data": {
      "text/plain": [
       "Index(['background', 'film', 'melancholic', 'melodic', 'children', 'relaxing',\n",
       "       'documentary', 'emotional', 'space', 'love', 'drama', 'adventure',\n",
       "       'energetic', 'heavy', 'dark', 'calm', 'action', 'dramatic', 'epic',\n",
       "       'powerful', 'upbeat', 'slow', 'inspiring', 'soft', 'meditative', 'fun',\n",
       "       'happy', 'positive', 'romantic', 'sad', 'hopeful', 'motivational',\n",
       "       'deep', 'uplifting', 'ballad', 'soundscape', 'dream', 'movie', 'fast',\n",
       "       'nature', 'cool', 'corporate', 'travel', 'funny', 'sport', 'commercial',\n",
       "       'advertising', 'holiday', 'christmas', 'sexy', 'game', 'groovy',\n",
       "       'retro', 'summer', 'party', 'trailer'],\n",
       "      dtype='object')"
      ]
     },
     "execution_count": 9,
     "metadata": {},
     "output_type": "execute_result"
    }
   ],
   "source": [
    "train_df.columns"
   ]
  },
  {
   "cell_type": "code",
   "execution_count": 10,
   "metadata": {},
   "outputs": [],
   "source": [
    "train_df = train_df.loc[:, sorted(train_df.columns.tolist())]\n",
    "valid_df = valid_df.loc[:, sorted(train_df.columns.tolist())]\n",
    "test_df = test_df.loc[:, sorted(train_df.columns.tolist())]"
   ]
  },
  {
   "cell_type": "code",
   "execution_count": 11,
   "metadata": {},
   "outputs": [
    {
     "data": {
      "text/plain": [
       "Index(['action', 'adventure', 'advertising', 'background', 'ballad', 'calm',\n",
       "       'children', 'christmas', 'commercial', 'cool', 'corporate', 'dark',\n",
       "       'deep', 'documentary', 'drama', 'dramatic', 'dream', 'emotional',\n",
       "       'energetic', 'epic', 'fast', 'film', 'fun', 'funny', 'game', 'groovy',\n",
       "       'happy', 'heavy', 'holiday', 'hopeful', 'inspiring', 'love',\n",
       "       'meditative', 'melancholic', 'melodic', 'motivational', 'movie',\n",
       "       'nature', 'party', 'positive', 'powerful', 'relaxing', 'retro',\n",
       "       'romantic', 'sad', 'sexy', 'slow', 'soft', 'soundscape', 'space',\n",
       "       'sport', 'summer', 'trailer', 'travel', 'upbeat', 'uplifting'],\n",
       "      dtype='object')"
      ]
     },
     "execution_count": 11,
     "metadata": {},
     "output_type": "execute_result"
    }
   ],
   "source": [
    "train_df.columns"
   ]
  },
  {
   "cell_type": "code",
   "execution_count": 12,
   "metadata": {},
   "outputs": [],
   "source": [
    "def np_load_gz(x):\n",
    "    with gzip.open(x, 'rb') as f:\n",
    "        return np.load(f)"
   ]
  },
  {
   "cell_type": "code",
   "execution_count": 13,
   "metadata": {},
   "outputs": [],
   "source": [
    "import random\n",
    "def random_30s(x):\n",
    "    x_len = x.shape[1]\n",
    "    offset = random.randint(0, (x_len - 1407))\n",
    "    return x[:, offset:(offset + 1407)]\n",
    "from transformer import *"
   ]
  },
  {
   "cell_type": "code",
   "execution_count": 14,
   "metadata": {},
   "outputs": [],
   "source": [
    "import math\n",
    "import random\n",
    "import numpy as np\n",
    "from PIL import Image\n",
    "\n",
    "\n",
    "def resize(img, size, interpolation=Image.BILINEAR):\n",
    "    r\"\"\"Resize the input PIL Image to the given size.\n",
    "    Args:\n",
    "        img (PIL Image): Image to be resized.\n",
    "        size (sequence or int): Desired output size. If size is a sequence like\n",
    "            (h, w), the output size will be matched to this. If size is an int,\n",
    "            the smaller edge of the image will be matched to this number maintaing\n",
    "            the aspect ratio. i.e, if height > width, then image will be rescaled to\n",
    "            :math:`\\left(\\text{size} \\times \\frac{\\text{height}}{\\text{width}}, \\text{size}\\right)`\n",
    "        interpolation (int, optional): Desired interpolation. Default is\n",
    "            ``PIL.Image.BILINEAR``\n",
    "    Returns:\n",
    "        PIL Image: Resized image.\n",
    "    \"\"\"\n",
    "    if isinstance(size, int):\n",
    "        w, h = img.size\n",
    "        if (w <= h and w == size) or (h <= w and h == size):\n",
    "            return img\n",
    "        if w < h:\n",
    "            ow = size\n",
    "            oh = int(size * h / w)\n",
    "            return img.resize((ow, oh), interpolation)\n",
    "        else:\n",
    "            oh = size\n",
    "            ow = int(size * w / h)\n",
    "            return img.resize((ow, oh), interpolation)\n",
    "    else:\n",
    "        return img.resize(size[::-1], interpolation)\n",
    "\n",
    "\n",
    "def crop(img, i, j, h, w):\n",
    "    \"\"\"Crop the given PIL Image.\n",
    "    Args:\n",
    "        img (PIL Image): Image to be cropped.\n",
    "        i (int): i in (i,j) i.e coordinates of the upper left corner.\n",
    "        j (int): j in (i,j) i.e coordinates of the upper left corner.\n",
    "        h (int): Height of the cropped image.\n",
    "        w (int): Width of the cropped image.\n",
    "    Returns:\n",
    "        PIL Image: Cropped image.\n",
    "    \"\"\"\n",
    "    return img.crop((j, i, j + w, i + h))\n",
    "\n",
    "\n",
    "def resized_crop(img, i, j, h, w, size, interpolation=Image.BILINEAR):\n",
    "    \"\"\"Crop the given PIL Image and resize it to desired size.\n",
    "    Notably used in :class:`~torchvision.transforms.RandomResizedCrop`.\n",
    "    Args:\n",
    "        img (PIL Image): Image to be cropped.\n",
    "        i (int): i in (i,j) i.e coordinates of the upper left corner\n",
    "        j (int): j in (i,j) i.e coordinates of the upper left corner\n",
    "        h (int): Height of the cropped image.\n",
    "        w (int): Width of the cropped image.\n",
    "        size (sequence or int): Desired output size. Same semantics as ``resize``.\n",
    "        interpolation (int, optional): Desired interpolation. Default is\n",
    "            ``PIL.Image.BILINEAR``.\n",
    "    Returns:\n",
    "        PIL Image: Cropped image.\n",
    "    \"\"\"\n",
    "    img = crop(img, i, j, h, w)\n",
    "    img = resize(img, size, interpolation)\n",
    "    return img\n",
    "\n",
    "\n",
    "class RandomResizedCrop(object):\n",
    "    \"\"\"Crop the given PIL Image to random size and aspect ratio.\n",
    "    A crop of random size (default: of 0.08 to 1.0) of the original size and a random\n",
    "    aspect ratio (default: of 3/4 to 4/3) of the original aspect ratio is made. This crop\n",
    "    is finally resized to given size.\n",
    "    This is popularly used to train the Inception networks.\n",
    "    Args:\n",
    "        size: expected output size of each edge\n",
    "        scale: range of size of the origin size cropped\n",
    "        ratio: range of aspect ratio of the origin aspect ratio cropped\n",
    "        interpolation: Default: PIL.Image.BILINEAR\n",
    "    \"\"\"\n",
    "\n",
    "    def __init__(self, size=None, scale=(0.08, 1.0), ratio=(3. / 4., 4. / 3.), interpolation=Image.BILINEAR):\n",
    "        if isinstance(size, tuple) or size is None:\n",
    "            self.size = size\n",
    "        else:\n",
    "            self.size = (size, size)\n",
    "        if (scale[0] > scale[1]) or (ratio[0] > ratio[1]):\n",
    "            warnings.warn(\"range should be of kind (min, max)\")\n",
    "\n",
    "        self.interpolation = interpolation\n",
    "        self.scale = scale\n",
    "        self.ratio = ratio\n",
    "\n",
    "    @staticmethod\n",
    "    def get_params(img, scale, ratio):\n",
    "        \"\"\"Get parameters for ``crop`` for a random sized crop.\n",
    "        Args:\n",
    "            img (PIL Image): Image to be cropped.\n",
    "            scale (tuple): range of size of the origin size cropped\n",
    "            ratio (tuple): range of aspect ratio of the origin aspect ratio cropped\n",
    "        Returns:\n",
    "            tuple: params (i, j, h, w) to be passed to ``crop`` for a random\n",
    "                sized crop.\n",
    "        \"\"\"\n",
    "        area = img.size[0] * img.size[1]\n",
    "\n",
    "        for attempt in range(10):\n",
    "            target_area = random.uniform(*scale) * area\n",
    "            log_ratio = (math.log(ratio[0]), math.log(ratio[1]))\n",
    "            aspect_ratio = math.exp(random.uniform(*log_ratio))\n",
    "\n",
    "            w = int(round(math.sqrt(target_area * aspect_ratio)))\n",
    "            h = int(round(math.sqrt(target_area / aspect_ratio)))\n",
    "\n",
    "            if w <= img.size[0] and h <= img.size[1]:\n",
    "                i = random.randint(0, img.size[1] - h)\n",
    "                j = random.randint(0, img.size[0] - w)\n",
    "                return i, j, h, w\n",
    "\n",
    "        # Fallback to central crop\n",
    "        in_ratio = img.size[0] / img.size[1]\n",
    "        if (in_ratio < min(ratio)):\n",
    "            w = img.size[0]\n",
    "            h = w / min(ratio)\n",
    "        elif (in_ratio > max(ratio)):\n",
    "            h = img.size[1]\n",
    "            w = h * max(ratio)\n",
    "        else:  # whole image\n",
    "            w = img.size[0]\n",
    "            h = img.size[1]\n",
    "        i = (img.size[1] - h) // 2\n",
    "        j = (img.size[0] - w) // 2\n",
    "        return i, j, h, w\n",
    "\n",
    "    def __call__(self, np_image):\n",
    "        \"\"\"\n",
    "        Args:\n",
    "            img (PIL Image): Image to be cropped and resized.\n",
    "        Returns:\n",
    "            PIL Image: Randomly cropped and resized image.\n",
    "        \"\"\"\n",
    "\n",
    "        if self.size is None:\n",
    "            size = np_image.shape\n",
    "        else:\n",
    "            size = self.size\n",
    "\n",
    "        image = Image.fromarray(np_image)\n",
    "        i, j, h, w = self.get_params(image, self.scale, self.ratio)\n",
    "        image = resized_crop(image, i, j, h, w, size, self.interpolation)\n",
    "        np_image = np.array(image)\n",
    "        return np_image\n",
    "\n",
    "    def __repr__(self):\n",
    "        interpolate_str = _pil_interpolation_to_str[self.interpolation]\n",
    "        format_string = self.__class__.__name__ + '(size={0}'.format(self.size)\n",
    "        format_string += ', scale={0}'.format(tuple(round(s, 4) for s in self.scale))\n",
    "        format_string += ', ratio={0}'.format(tuple(round(r, 4) for r in self.ratio))\n",
    "        format_string += ', interpolation={0})'.format(interpolate_str)\n",
    "        return format_string"
   ]
  },
  {
   "cell_type": "code",
   "execution_count": 15,
   "metadata": {},
   "outputs": [],
   "source": [
    "import cv2\n",
    "import torch\n",
    "import random\n",
    "import librosa\n",
    "import numpy as np\n",
    "\n",
    "#from random_resized_crop import RandomResizedCrop\n",
    "\n",
    "cv2.setNumThreads(0)\n",
    "\n",
    "\n",
    "def image_crop(image, bbox):\n",
    "    return image[bbox[1]:bbox[3], bbox[0]:bbox[2]]\n",
    "\n",
    "\n",
    "def gauss_noise(image, sigma_sq):\n",
    "    h, w = image.shape\n",
    "    gauss = np.random.normal(0, sigma_sq, (h, w))\n",
    "    gauss = gauss.reshape(h, w)\n",
    "    image = image + gauss\n",
    "    return image\n",
    "\n",
    "\n",
    "# Source: https://www.kaggle.com/davids1992/specaugment-quick-implementation\n",
    "def spec_augment(spec: np.ndarray,\n",
    "                 num_mask=2,\n",
    "                 freq_masking=0.15,\n",
    "                 time_masking=0.20,\n",
    "                 value=0):\n",
    "    spec = spec.copy()\n",
    "    num_mask = random.randint(1, num_mask)\n",
    "    for i in range(num_mask):\n",
    "        all_freqs_num, all_frames_num  = spec.shape\n",
    "        freq_percentage = random.uniform(0.0, freq_masking)\n",
    "\n",
    "        num_freqs_to_mask = int(freq_percentage * all_freqs_num)\n",
    "        f0 = np.random.uniform(low=0.0, high=all_freqs_num - num_freqs_to_mask)\n",
    "        f0 = int(f0)\n",
    "        spec[f0:f0 + num_freqs_to_mask, :] = value\n",
    "\n",
    "        time_percentage = random.uniform(0.0, time_masking)\n",
    "\n",
    "        num_frames_to_mask = int(time_percentage * all_frames_num)\n",
    "        t0 = np.random.uniform(low=0.0, high=all_frames_num - num_frames_to_mask)\n",
    "        t0 = int(t0)\n",
    "        spec[:, t0:t0 + num_frames_to_mask] = value\n",
    "    return spec\n",
    "\n",
    "\n",
    "class SpecAugment:\n",
    "    def __init__(self,\n",
    "                 num_mask=2,\n",
    "                 freq_masking=0.15,\n",
    "                 time_masking=0.20):\n",
    "        self.num_mask = num_mask\n",
    "        self.freq_masking = freq_masking\n",
    "        self.time_masking = time_masking\n",
    "\n",
    "    def __call__(self, image):\n",
    "        return spec_augment(image,\n",
    "                            self.num_mask,\n",
    "                            self.freq_masking,\n",
    "                            self.time_masking,\n",
    "                            image.min())\n",
    "\n",
    "\n",
    "class Compose:\n",
    "    def __init__(self, transforms):\n",
    "        self.transforms = transforms\n",
    "\n",
    "    def __call__(self, image, trg=None):\n",
    "        if trg is None:\n",
    "            for t in self.transforms:\n",
    "                image = t(image)\n",
    "            return image\n",
    "        else:\n",
    "            for t in self.transforms:\n",
    "                image, trg = t(image, trg)\n",
    "            return image, trg\n",
    "\n",
    "\n",
    "class UseWithProb:\n",
    "    def __init__(self, transform, prob=.5):\n",
    "        self.transform = transform\n",
    "        self.prob = prob\n",
    "\n",
    "    def __call__(self, image, trg=None):\n",
    "        if trg is None:\n",
    "            if random.random() < self.prob:\n",
    "                image = self.transform(image)\n",
    "            return image\n",
    "        else:\n",
    "            if random.random() < self.prob:\n",
    "                image, trg = self.transform(image, trg)\n",
    "            return image, trg\n",
    "\n",
    "\n",
    "class OneOf:\n",
    "    def __init__(self, transforms, p=None):\n",
    "        self.transforms = transforms\n",
    "        self.p = p\n",
    "\n",
    "    def __call__(self, image, trg=None):\n",
    "        transform = np.random.choice(self.transforms, p=self.p)\n",
    "        if trg is None:\n",
    "            image = transform(image)\n",
    "            return image\n",
    "        else:\n",
    "            image, trg = transform(image, trg)\n",
    "            return image, trg\n",
    "\n",
    "\n",
    "class Flip:\n",
    "    def __init__(self, flip_code):\n",
    "        assert flip_code == 0 or flip_code == 1\n",
    "        self.flip_code = flip_code\n",
    "\n",
    "    def __call__(self, image):\n",
    "        image = cv2.flip(image, self.flip_code)\n",
    "        return image\n",
    "\n",
    "\n",
    "class HorizontalFlip(Flip):\n",
    "    def __init__(self):\n",
    "        super().__init__(1)\n",
    "\n",
    "\n",
    "class VerticalFlip(Flip):\n",
    "    def __init__(self):\n",
    "        super().__init__(0)\n",
    "\n",
    "\n",
    "class GaussNoise:\n",
    "    def __init__(self, sigma_sq):\n",
    "        self.sigma_sq = sigma_sq\n",
    "\n",
    "    def __call__(self, image):\n",
    "        if self.sigma_sq > 0.0:\n",
    "            image = gauss_noise(image,\n",
    "                                np.random.uniform(0, self.sigma_sq))\n",
    "        return image\n",
    "\n",
    "\n",
    "class RandomGaussianBlur:\n",
    "    '''Apply Gaussian blur with random kernel size\n",
    "    Args:\n",
    "        max_ksize (int): maximal size of a kernel to apply, should be odd\n",
    "        sigma_x (int): Standard deviation\n",
    "    '''\n",
    "    def __init__(self, max_ksize=5, sigma_x=20):\n",
    "        assert max_ksize % 2 == 1, \"max_ksize should be odd\"\n",
    "        self.max_ksize = max_ksize // 2 + 1\n",
    "        self.sigma_x = sigma_x\n",
    "\n",
    "    def __call__(self, image):\n",
    "        kernel_size = tuple(2 * np.random.randint(0, self.max_ksize, 2) + 1)\n",
    "        blured_image = cv2.GaussianBlur(image, kernel_size, self.sigma_x)\n",
    "        return blured_image\n",
    "\n",
    "\n",
    "class ImageToTensor:\n",
    "    def __call__(self, image):\n",
    "        #delta = librosa.feature.delta(image)\n",
    "        #accelerate = librosa.feature.delta(image, order=2)\n",
    "        #image = np.stack([image, delta, accelerate], axis=0)\n",
    "        image = image[None, :, :]\n",
    "        image = image.astype(np.float32) / 100\n",
    "        image = torch.from_numpy(image)\n",
    "        return image\n",
    "\n",
    "\n",
    "class RandomCrop:\n",
    "    def __init__(self, size):\n",
    "        self.size = size\n",
    "\n",
    "    def __call__(self, signal):\n",
    "        start = random.randint(0, signal.shape[1] - self.size)\n",
    "        return signal[:, start: start + self.size]\n",
    "\n",
    "\n",
    "class CenterCrop:\n",
    "    def __init__(self, size):\n",
    "        self.size = size\n",
    "\n",
    "    def __call__(self, signal):\n",
    "\n",
    "        if signal.shape[1] > self.size:\n",
    "            start = (signal.shape[1] - self.size) // 2\n",
    "            return signal[:, start: start + self.size]\n",
    "        else:\n",
    "            return signal\n",
    "\n",
    "\n",
    "class PadToSize:\n",
    "    def __init__(self, size, mode='constant'):\n",
    "        assert mode in ['constant', 'wrap']\n",
    "        self.size = size\n",
    "        self.mode = mode\n",
    "\n",
    "    def __call__(self, signal):\n",
    "        if signal.shape[1] < self.size:\n",
    "            padding = self.size - signal.shape[1]\n",
    "            offset = padding // 2\n",
    "            pad_width = ((0, 0), (offset, padding - offset))\n",
    "            if self.mode == 'constant':\n",
    "                signal = np.pad(signal, pad_width,\n",
    "                                'constant', constant_values=signal.min())\n",
    "            else:\n",
    "                signal = np.pad(signal, pad_width, 'wrap')\n",
    "        return signal\n",
    "\n",
    "\n",
    "def get_transforms(train, size,\n",
    "                   wrap_pad_prob=0.5,\n",
    "                   resize_scale=(0.8, 1.0),\n",
    "                   resize_ratio=(1.7, 2.3),\n",
    "                   resize_prob=0.33,\n",
    "                   spec_num_mask=2,\n",
    "                   spec_freq_masking=0.15,\n",
    "                   spec_time_masking=0.20,\n",
    "                   spec_prob=0.5):\n",
    "    if train:\n",
    "        transforms = Compose([\n",
    "            OneOf([\n",
    "                PadToSize(size, mode='wrap'),\n",
    "                PadToSize(size, mode='constant'),\n",
    "            ], p=[wrap_pad_prob, 1 - wrap_pad_prob]),\n",
    "            RandomCrop(size),\n",
    "            UseWithProb(\n",
    "                RandomResizedCrop(scale=resize_scale, ratio=resize_ratio),\n",
    "                prob=resize_prob\n",
    "            ),\n",
    "            UseWithProb(SpecAugment(num_mask=spec_num_mask,\n",
    "                                    freq_masking=spec_freq_masking,\n",
    "                                    time_masking=spec_time_masking), spec_prob),\n",
    "            ImageToTensor()\n",
    "        ])\n",
    "    else:\n",
    "        transforms = Compose([\n",
    "            PadToSize(size),\n",
    "            CenterCrop(size),\n",
    "            ImageToTensor()\n",
    "        ])\n",
    "    return transforms"
   ]
  },
  {
   "cell_type": "code",
   "execution_count": 16,
   "metadata": {},
   "outputs": [],
   "source": [
    "train_transform = get_transforms(\n",
    "    train=True,\n",
    "    size=6590,\n",
    "    wrap_pad_prob=0.5,\n",
    "    resize_scale=(0.8, 1.0),\n",
    "    resize_ratio=(1.7, 2.3),\n",
    "    resize_prob=0.33,\n",
    "    spec_num_mask=2,\n",
    "    spec_freq_masking=0.15,\n",
    "    spec_time_masking=0.20,\n",
    "    spec_prob=0.5\n",
    ")\n",
    "val_transform = get_transforms(False, 6590)"
   ]
  },
  {
   "cell_type": "code",
   "execution_count": 17,
   "metadata": {},
   "outputs": [],
   "source": [
    "class AudioDataset(Dataset):\n",
    "    \n",
    "    def __init__(self, df, transform=None):\n",
    "        self.df = df\n",
    "        self.transform = transform\n",
    "    \n",
    "    def __len__(self):\n",
    "        return self.df.shape[0]\n",
    "    \n",
    "    def __getitem__(self, idx):\n",
    "        \n",
    "        this_file = self.df.index[idx]\n",
    "        sample = np.load('../melspecdataset/{}.npy'.format(this_file))\n",
    "        \n",
    "        image = sample\n",
    "                \n",
    "        if self.transform is not None:\n",
    "            image = self.transform(image)\n",
    "        \n",
    "        return image, torch.Tensor(self.df.values[idx])"
   ]
  },
  {
   "cell_type": "code",
   "execution_count": 18,
   "metadata": {},
   "outputs": [],
   "source": [
    "train_dataset = AudioDataset(train_df, train_transform)\n",
    "valid_dataset = AudioDataset(valid_df, val_transform)\n",
    "test_dataset = AudioDataset(test_df, val_transform)"
   ]
  },
  {
   "cell_type": "code",
   "execution_count": 19,
   "metadata": {},
   "outputs": [
    {
     "data": {
      "text/plain": [
       "(torch.Size([1, 96, 6590]), torch.Size([56]))"
      ]
     },
     "execution_count": 19,
     "metadata": {},
     "output_type": "execute_result"
    }
   ],
   "source": [
    "train_dataset[100][0].shape, train_dataset[100][1].shape"
   ]
  },
  {
   "cell_type": "code",
   "execution_count": 20,
   "metadata": {},
   "outputs": [
    {
     "data": {
      "image/png": "[encoded data removed]",
      "text/plain": [
       "<Figure size 432x288 with 2 Axes>"
      ]
     },
     "metadata": {
      "needs_background": "light"
     },
     "output_type": "display_data"
    }
   ],
   "source": [
    "import seaborn as sns\n",
    "sns.heatmap(train_dataset[100][0][0,:,:].numpy());"
   ]
  },
  {
   "cell_type": "code",
   "execution_count": 21,
   "metadata": {},
   "outputs": [
    {
     "data": {
      "image/png": "[encoded data removed]",
      "text/plain": [
       "<Figure size 432x288 with 2 Axes>"
      ]
     },
     "metadata": {
      "needs_background": "light"
     },
     "output_type": "display_data"
    }
   ],
   "source": [
    "sns.heatmap(valid_dataset[100][0][0,:,:].numpy());"
   ]
  },
  {
   "cell_type": "code",
   "execution_count": 22,
   "metadata": {},
   "outputs": [],
   "source": [
    "import torchvision.models\n",
    "\n",
    "class mv2rnn(nn.Module):\n",
    "    def __init__(self, embed_size = 512, num_layers = 4, output_dim = 56, batchsize = 100):\n",
    "        super(mv2rnn,self).__init__()\n",
    "       \n",
    "        '''Encoder'''\n",
    "        #self.bw2col = nn.Sequential(\n",
    "        #    nn.BatchNorm2d(1),\n",
    "        #   nn.Conv2d(1, 10, 1, padding=0), nn.ReLU(),\n",
    "        #    nn.Conv2d(10, 3, 1, padding=0), nn.ReLU())\n",
    "        # conv1d layers\n",
    "        self.bw2col = nn.Sequential(\n",
    "            nn.BatchNorm2d(1),\n",
    "            nn.Conv2d(1, 10, 1, padding=0), nn.ReLU(),\n",
    "            nn.Conv2d(10, 3, 1, padding=0), nn.ReLU())\n",
    "        \n",
    "        self.mv2 = torchvision.models.mobilenet_v2(pretrained=True)\n",
    "        \n",
    "        \n",
    "\n",
    "        # add another fully connected layer\n",
    "        self.embed = nn.Linear(in_features=1280, out_features=512)\n",
    "       \n",
    "        # dropout layer\n",
    "        self.dropout = nn.Dropout(p=0.5)\n",
    "       \n",
    "        # activation layers\n",
    "        self.prelu = nn.PReLU()\n",
    "       \n",
    "        '''Decoder'''\n",
    "       \n",
    "        self.hidden_dim1 = 128\n",
    "        self.hidden_dim2 = 64\n",
    "        self.num_layers = num_layers\n",
    "        self.output_dim = output_dim\n",
    "        self.batch_size = batchsize\n",
    "       \n",
    "        # LSTM layer\n",
    "        self.lstm = nn.LSTM(embed_size, self.hidden_dim1, self.num_layers)\n",
    "\n",
    "        # output layer\n",
    "        self.linear1 = nn.Linear(self.hidden_dim1, self.hidden_dim2)\n",
    "       \n",
    "        # output layer\n",
    "        self.linear2 = nn.Linear(self.hidden_dim2, self.output_dim)\n",
    "       \n",
    "        # dropout layer\n",
    "        self.dropout1 = nn.Dropout(p=0.4)\n",
    "   \n",
    "    def init_hidden(self):\n",
    "        return (\n",
    "            torch.zeros(self.num_layers, self.batch_size, self.hidden_dim1),\n",
    "            torch.zeros(self.num_layers, self.batch_size, self.hidden_dim1),\n",
    "        )\n",
    "       \n",
    "    def cnnencoder(self, images):\n",
    "        x = self.bw2col(images)\n",
    "        x = self.mv2.features(x)\n",
    "        # get the embeddings from the densenet\n",
    "        x = x.mean([2, 3])\n",
    "        convnet_outputs = self.dropout(self.prelu(x))\n",
    "       \n",
    "        # pass through the fully connected\n",
    "        embeddings = self.embed(convnet_outputs)\n",
    "       \n",
    "        return embeddings\n",
    "   \n",
    "    def rnndecoder(self, features):\n",
    "        lstm_out, hidden = self.lstm(features.unsqueeze(1))\n",
    "        logits1 = self.dropout1(self.linear1(lstm_out))\n",
    "        logits = self.linear2(logits1.squeeze())\n",
    "        genre_scores = F.sigmoid(logits)\n",
    "        return genre_scores\n",
    "   \n",
    "    def forward(self, inputs):\n",
    "        embed = self.cnnencoder(inputs)\n",
    "        output = self.rnndecoder(embed)\n",
    "        return output\n",
    "   \n",
    "    def get_accuracy(self, logits, target):\n",
    "        \"\"\" compute accuracy for training round \"\"\"\n",
    "        corrects = (\n",
    "            torch.max(logits, 1)[1].view(target.size()).data == target.data\n",
    "        ).sum()\n",
    "        accuracy = 100.0 * corrects / self.batch_size\n",
    "        return accuracy.item()"
   ]
  },
  {
   "cell_type": "code",
   "execution_count": 23,
   "metadata": {},
   "outputs": [
    {
     "name": "stdout",
     "output_type": "stream",
     "text": [
      "Device:  cuda:0\n"
     ]
    }
   ],
   "source": [
    "cuda=True\n",
    "device = torch.device('cuda:0' if cuda else 'cpu')\n",
    "print('Device: ', device)"
   ]
  },
  {
   "cell_type": "code",
   "execution_count": 24,
   "metadata": {},
   "outputs": [],
   "source": [
    "model = mv2rnn().to(device)\n",
    "optimizer = optim.Adam(model.parameters(), lr=0.001, amsgrad=True)\n",
    "scheduler = optim.lr_scheduler.ReduceLROnPlateau(optimizer, patience=5, verbose=True)\n",
    "criterion = nn.BCELoss()"
   ]
  },
  {
   "cell_type": "code",
   "execution_count": 25,
   "metadata": {},
   "outputs": [],
   "source": [
    "val_loader = DataLoader(valid_dataset, 4, shuffle=False)\n",
    "train_loader_1 = DataLoader(train_dataset, 4, shuffle=True, drop_last=True)\n",
    "train_loader_2 = DataLoader(train_dataset, 4, shuffle=True, drop_last=True)"
   ]
  },
  {
   "cell_type": "code",
   "execution_count": 26,
   "metadata": {},
   "outputs": [],
   "source": [
    "epochs = 100"
   ]
  },
  {
   "cell_type": "code",
   "execution_count": 28,
   "metadata": {
    "scrolled": false
   },
   "outputs": [
    {
     "name": "stdout",
     "output_type": "stream",
     "text": [
      "Epoch:  0\n",
      "0.13966932934141563 0.1296324199290807\n",
      "Epoch:  1\n",
      "0.13890922713349227 0.12946342039935596\n",
      "Epoch:  2\n",
      "0.13863289065338494 0.1293627817250326\n",
      "Epoch:  3\n",
      "0.138307891240861 0.12886050873123633\n",
      "Epoch:  4\n",
      "0.1386008269374851 0.12947236043014235\n",
      "Epoch:  5\n",
      "0.1380585221626886 0.12945535875363304\n",
      "Epoch:  6\n",
      "0.13796430884305858 0.12938496077944428\n",
      "Epoch:  7\n",
      "0.13727822082261748 0.12971799266764544\n",
      "Epoch:  8\n",
      "0.13838714409423344 0.13006956864355992\n",
      "Epoch:  9\n",
      "0.13779668788270966 0.12939139835528646\n",
      "Epoch    10: reducing learning rate of group 0 to 1.0000e-04.\n",
      "Epoch:  10\n",
      "0.13730907245757448 0.128952081662874\n",
      "Epoch:  11\n",
      "0.13704072293395922 0.12898525558059523\n",
      "Epoch:  12\n",
      "0.136635009782066 0.1288420800295914\n",
      "Epoch:  13\n",
      "0.13688806039372936 0.12888414471495416\n",
      "Epoch:  14\n",
      "0.13759408774963575 0.1288726808724594\n",
      "Epoch:  15\n",
      "0.13737406946529956 0.12885995566468886\n",
      "Epoch:  16\n",
      "0.13730202908850503 0.1289464824849624\n",
      "Epoch:  17\n",
      "0.13710840383134887 0.12889016176780566\n",
      "Epoch:  18\n",
      "0.13710537684050056 0.1289510996826189\n",
      "Epoch    19: reducing learning rate of group 0 to 1.0000e-05.\n",
      "Epoch:  19\n",
      "0.13682929091200466 0.1288950386859641\n",
      "Epoch:  20\n",
      "0.13696743945160877 0.128887459909941\n",
      "Epoch:  21\n",
      "0.1375173242919216 0.12892875453745153\n",
      "Epoch:  22\n",
      "0.13712636766049774 0.12889003978511387\n",
      "Epoch:  23\n",
      "0.1368798231852069 0.12890316848373815\n",
      "Epoch:  24\n",
      "0.13727396154108898 0.12894033272403022\n",
      "Epoch    25: reducing learning rate of group 0 to 1.0000e-06.\n",
      "Epoch:  25\n",
      "0.1366510179012139 0.12892055147171771\n",
      "Epoch:  26\n",
      "0.1367560617886349 0.12891316690436172\n",
      "Epoch:  27\n",
      "0.1368317609727023 0.12890737430123\n",
      "Epoch:  28\n",
      "0.13711904282005713 0.12890785686538547\n",
      "Epoch:  29\n",
      "0.13701073974251124 0.12890708951825974\n",
      "Epoch:  30\n",
      "0.1369812608598033 0.12891001650744308\n",
      "Epoch    31: reducing learning rate of group 0 to 1.0000e-07.\n",
      "Epoch:  31\n",
      "0.1370742893004494 0.12890968944967482\n",
      "Epoch:  32\n",
      "0.13720531135821468 0.12890947247403903\n",
      "Epoch:  33\n",
      "0.13615076636927742 0.12890884166604963\n",
      "Epoch:  34\n",
      "0.13715816744849246 0.1289087935780752\n",
      "Epoch:  35\n",
      "0.13711387147601944 0.12890843700785992\n",
      "Epoch:  36\n",
      "0.1369101290613904 0.12890836895765692\n",
      "Epoch    37: reducing learning rate of group 0 to 1.0000e-08.\n",
      "Epoch:  37\n"
     ]
    }
   ],
   "source": [
    "train_loss_hist = []\n",
    "train_loss_hist_each_class = []\n",
    "\n",
    "valid_loss_hist = []\n",
    "valid_loss_hist_each_class = []\n",
    "\n",
    "lowest_val_loss = np.inf\n",
    "lowest_val_loss_each_class = np.array([float('inf') for _ in range(56)])\n",
    "epochs_without_new_lowest = 0\n",
    "k=0\n",
    "\n",
    "for j in range(epochs):\n",
    "    print('Epoch: ', j)\n",
    "    \n",
    "    this_epoch_train_loss = 0\n",
    "    this_epoch_train_loss_each_class = np.zeros(56)\n",
    "    #model.init_hidden()\n",
    "    for i1, i2 in zip(train_loader_1, train_loader_2):\n",
    "        \n",
    "        k+=1\n",
    "        #print('running set {} of epoch {}'.format(k,i))\n",
    "        # mixup---------\n",
    "        alpha = 1\n",
    "        mixup_vals = np.random.beta(alpha, alpha, i1[0].shape[0])\n",
    "        \n",
    "        lam = torch.Tensor(mixup_vals.reshape(mixup_vals.shape[0], 1, 1, 1))\n",
    "        inputs = (lam * i1[0]) + ((1 - lam) * i2[0])\n",
    "        \n",
    "        lam = torch.Tensor(mixup_vals.reshape(mixup_vals.shape[0], 1))\n",
    "        labels = (lam * i1[1]) + ((1 - lam) * i2[1])\n",
    "        # mixup ends ----------\n",
    "        \n",
    "        # https://stackoverflow.com/questions/55563376/pytorch-how-does-pin-memory-works-in-dataloader\n",
    "        inputs = inputs.to(device, non_blocking=False)\n",
    "        labels = labels.to(device, non_blocking=False)\n",
    "        \n",
    "        \n",
    "        optimizer.zero_grad()\n",
    "        with torch.set_grad_enabled(True):\n",
    "            model = model.train()\n",
    "            outputs = model(inputs)\n",
    "            \n",
    "            loss = criterion(outputs, labels)\n",
    "            total_loss = loss.mean(dim=0).mean(dim=0)\n",
    "            total_loss.backward()\n",
    "            optimizer.step()\n",
    "            \n",
    "            loss_val = total_loss.detach().cpu().numpy()\n",
    "            loss_val_each_class = loss.mean(dim=0).detach().cpu().numpy()\n",
    "            \n",
    "            this_epoch_train_loss += loss_val\n",
    "            this_epoch_train_loss_each_class += loss_val_each_class\n",
    "    \n",
    "    this_epoch_valid_loss = 0\n",
    "    this_epoch_valid_loss_each_class = np.zeros(56)\n",
    "    for inputs, labels in val_loader:\n",
    "        \n",
    "        inputs = inputs.to(device)\n",
    "        labels = labels.to(device)\n",
    "        \n",
    "        optimizer.zero_grad()\n",
    "        with torch.set_grad_enabled(False):\n",
    "            model = model.eval()\n",
    "            outputs = model(inputs)\n",
    "            \n",
    "            loss = criterion(outputs, labels)\n",
    "            \n",
    "            loss_val = loss.mean(dim=0).mean(dim=0).detach().cpu().numpy()\n",
    "            loss_val_each_class = loss.mean(dim=0).detach().cpu().numpy()\n",
    "            \n",
    "            this_epoch_valid_loss += loss_val\n",
    "            this_epoch_valid_loss_each_class += loss_val_each_class\n",
    "    \n",
    "    this_epoch_train_loss /= len(train_loader_1)\n",
    "    this_epoch_train_loss_each_class /= len(train_loader_1)\n",
    "    \n",
    "    this_epoch_valid_loss /= len(val_loader)\n",
    "    this_epoch_valid_loss_each_class /= len(val_loader)\n",
    "    \n",
    "    train_loss_hist.append(this_epoch_train_loss)\n",
    "    train_loss_hist_each_class.append(this_epoch_train_loss_each_class)\n",
    "    valid_loss_hist.append(this_epoch_valid_loss)\n",
    "    valid_loss_hist_each_class.append(this_epoch_valid_loss_each_class)\n",
    "    \n",
    "    if this_epoch_valid_loss < lowest_val_loss:\n",
    "        lowest_val_loss = this_epoch_valid_loss\n",
    "        torch.save(model.state_dict(), './mv2rnnmodel')\n",
    "        epochs_without_new_lowest = 0\n",
    "    else:\n",
    "        epochs_without_new_lowest += 1\n",
    "    \n",
    "    for i in range(56):\n",
    "        if this_epoch_valid_loss_each_class[i] < lowest_val_loss_each_class[i]:\n",
    "            lowest_val_loss_each_class[i] = this_epoch_valid_loss_each_class[i]\n",
    "            torch.save(model.state_dict(), './mv2rnnmodel_c{}'.format(i))\n",
    "    \n",
    "    if epochs_without_new_lowest >= 25:\n",
    "        break\n",
    "    print(this_epoch_train_loss, this_epoch_valid_loss)\n",
    "    send('epoch number {} done, train loss = {}, valid loss = {}'.format(j,this_epoch_train_loss, this_epoch_valid_loss))\n",
    "    \n",
    "    scheduler.step(this_epoch_valid_loss)"
   ]
  },
  {
   "cell_type": "code",
   "execution_count": 30,
   "metadata": {},
   "outputs": [
    {
     "data": {
      "text/plain": [
       "'epoch number 55 done, train accuracy = 0.14576812659191424, valid accuracy = 0.1297632322953201'"
      ]
     },
     "execution_count": 30,
     "metadata": {},
     "output_type": "execute_result"
    }
   ],
   "source": [
    "'epoch number {} done, train accuracy = {}, valid accuracy = {}'.format(i,this_epoch_train_loss, this_epoch_valid_loss)"
   ]
  },
  {
   "cell_type": "code",
   "execution_count": 29,
   "metadata": {},
   "outputs": [
    {
     "data": {
      "text/plain": [
       "<All keys matched successfully>"
      ]
     },
     "execution_count": 29,
     "metadata": {},
     "output_type": "execute_result"
    }
   ],
   "source": [
    "model.load_state_dict(torch.load('./mv2rnnmodel'))"
   ]
  },
  {
   "cell_type": "code",
   "execution_count": 30,
   "metadata": {},
   "outputs": [],
   "source": [
    "val_loader = DataLoader(valid_dataset, 16, shuffle=False)"
   ]
  },
  {
   "cell_type": "code",
   "execution_count": 31,
   "metadata": {},
   "outputs": [],
   "source": [
    "this_epoch_valid_loss = 0\n",
    "all_outputs = []\n",
    "all_inputs = []\n",
    "for inputs, labels in val_loader:\n",
    "    \n",
    "    inputs = inputs.to(device)\n",
    "    labels = labels.to(device)\n",
    "    \n",
    "    optimizer.zero_grad()\n",
    "    with torch.set_grad_enabled(False):\n",
    "        model = model.eval()\n",
    "        outputs = model(inputs)\n",
    "        \n",
    "        loss = criterion(outputs, labels)\n",
    "        loss_val = loss.mean(dim=0).mean(dim=0).detach().cpu().numpy()\n",
    "        this_epoch_valid_loss += loss_val\n",
    "        \n",
    "        all_outputs.append(outputs.detach().cpu().numpy())\n",
    "        all_inputs.append(labels.detach().cpu().numpy())\n",
    "        \n",
    "\n",
    "this_epoch_valid_loss /= len(val_loader)"
   ]
  },
  {
   "cell_type": "code",
   "execution_count": 32,
   "metadata": {},
   "outputs": [
    {
     "data": {
      "text/plain": [
       "0.12881687931528613"
      ]
     },
     "execution_count": 32,
     "metadata": {},
     "output_type": "execute_result"
    }
   ],
   "source": [
    "this_epoch_valid_loss"
   ]
  },
  {
   "cell_type": "code",
   "execution_count": 33,
   "metadata": {},
   "outputs": [],
   "source": [
    "all_outputs = np.concatenate(all_outputs, axis=0)\n",
    "all_inputs  = np.concatenate(all_inputs,  axis=0)"
   ]
  },
  {
   "cell_type": "code",
   "execution_count": 34,
   "metadata": {},
   "outputs": [],
   "source": [
    "all_outputs = 1 / (1 + np.exp(-all_outputs))"
   ]
  },
  {
   "cell_type": "code",
   "execution_count": 35,
   "metadata": {},
   "outputs": [],
   "source": [
    "from sklearn.metrics import roc_auc_score, average_precision_score"
   ]
  },
  {
   "cell_type": "code",
   "execution_count": 36,
   "metadata": {},
   "outputs": [
    {
     "data": {
      "text/plain": [
       "0.496765303020672"
      ]
     },
     "execution_count": 36,
     "metadata": {},
     "output_type": "execute_result"
    }
   ],
   "source": [
    "roc_auc_score(all_inputs, all_outputs, average='macro')"
   ]
  },
  {
   "cell_type": "code",
   "execution_count": 37,
   "metadata": {},
   "outputs": [
    {
     "data": {
      "text/plain": [
       "0.0295350336985603"
      ]
     },
     "execution_count": 37,
     "metadata": {},
     "output_type": "execute_result"
    }
   ],
   "source": [
    "average_precision_score(all_inputs, all_outputs, average='macro')"
   ]
  },
  {
   "cell_type": "code",
   "execution_count": 38,
   "metadata": {},
   "outputs": [
    {
     "data": {
      "text/html": [
       "<div>\n",
       "<style scoped>\n",
       "    .dataframe tbody tr th:only-of-type {\n",
       "        vertical-align: middle;\n",
       "    }\n",
       "\n",
       "    .dataframe tbody tr th {\n",
       "        vertical-align: top;\n",
       "    }\n",
       "\n",
       "    .dataframe thead th {\n",
       "        text-align: right;\n",
       "    }\n",
       "</style>\n",
       "<table border=\"1\" class=\"dataframe\">\n",
       "  <thead>\n",
       "    <tr style=\"text-align: right;\">\n",
       "      <th></th>\n",
       "      <th>0</th>\n",
       "      <th>1</th>\n",
       "    </tr>\n",
       "  </thead>\n",
       "  <tbody>\n",
       "    <tr>\n",
       "      <th>0</th>\n",
       "      <td>0</td>\n",
       "      <td>0.51</td>\n",
       "    </tr>\n",
       "    <tr>\n",
       "      <th>1</th>\n",
       "      <td>1</td>\n",
       "      <td>0.48</td>\n",
       "    </tr>\n",
       "    <tr>\n",
       "      <th>2</th>\n",
       "      <td>2</td>\n",
       "      <td>0.51</td>\n",
       "    </tr>\n",
       "    <tr>\n",
       "      <th>3</th>\n",
       "      <td>3</td>\n",
       "      <td>0.46</td>\n",
       "    </tr>\n",
       "    <tr>\n",
       "      <th>4</th>\n",
       "      <td>4</td>\n",
       "      <td>0.50</td>\n",
       "    </tr>\n",
       "    <tr>\n",
       "      <th>5</th>\n",
       "      <td>5</td>\n",
       "      <td>0.50</td>\n",
       "    </tr>\n",
       "    <tr>\n",
       "      <th>6</th>\n",
       "      <td>6</td>\n",
       "      <td>0.48</td>\n",
       "    </tr>\n",
       "    <tr>\n",
       "      <th>7</th>\n",
       "      <td>7</td>\n",
       "      <td>0.50</td>\n",
       "    </tr>\n",
       "    <tr>\n",
       "      <th>8</th>\n",
       "      <td>8</td>\n",
       "      <td>0.48</td>\n",
       "    </tr>\n",
       "    <tr>\n",
       "      <th>9</th>\n",
       "      <td>9</td>\n",
       "      <td>0.50</td>\n",
       "    </tr>\n",
       "    <tr>\n",
       "      <th>10</th>\n",
       "      <td>10</td>\n",
       "      <td>0.53</td>\n",
       "    </tr>\n",
       "    <tr>\n",
       "      <th>11</th>\n",
       "      <td>11</td>\n",
       "      <td>0.51</td>\n",
       "    </tr>\n",
       "    <tr>\n",
       "      <th>12</th>\n",
       "      <td>12</td>\n",
       "      <td>0.50</td>\n",
       "    </tr>\n",
       "    <tr>\n",
       "      <th>13</th>\n",
       "      <td>13</td>\n",
       "      <td>0.51</td>\n",
       "    </tr>\n",
       "    <tr>\n",
       "      <th>14</th>\n",
       "      <td>14</td>\n",
       "      <td>0.46</td>\n",
       "    </tr>\n",
       "    <tr>\n",
       "      <th>15</th>\n",
       "      <td>15</td>\n",
       "      <td>0.40</td>\n",
       "    </tr>\n",
       "    <tr>\n",
       "      <th>16</th>\n",
       "      <td>16</td>\n",
       "      <td>0.50</td>\n",
       "    </tr>\n",
       "    <tr>\n",
       "      <th>17</th>\n",
       "      <td>17</td>\n",
       "      <td>0.48</td>\n",
       "    </tr>\n",
       "    <tr>\n",
       "      <th>18</th>\n",
       "      <td>18</td>\n",
       "      <td>0.50</td>\n",
       "    </tr>\n",
       "    <tr>\n",
       "      <th>19</th>\n",
       "      <td>19</td>\n",
       "      <td>0.49</td>\n",
       "    </tr>\n",
       "    <tr>\n",
       "      <th>20</th>\n",
       "      <td>20</td>\n",
       "      <td>0.51</td>\n",
       "    </tr>\n",
       "    <tr>\n",
       "      <th>21</th>\n",
       "      <td>21</td>\n",
       "      <td>0.47</td>\n",
       "    </tr>\n",
       "    <tr>\n",
       "      <th>22</th>\n",
       "      <td>22</td>\n",
       "      <td>0.50</td>\n",
       "    </tr>\n",
       "    <tr>\n",
       "      <th>23</th>\n",
       "      <td>23</td>\n",
       "      <td>0.57</td>\n",
       "    </tr>\n",
       "    <tr>\n",
       "      <th>24</th>\n",
       "      <td>24</td>\n",
       "      <td>0.60</td>\n",
       "    </tr>\n",
       "    <tr>\n",
       "      <th>25</th>\n",
       "      <td>25</td>\n",
       "      <td>0.51</td>\n",
       "    </tr>\n",
       "    <tr>\n",
       "      <th>26</th>\n",
       "      <td>26</td>\n",
       "      <td>0.50</td>\n",
       "    </tr>\n",
       "    <tr>\n",
       "      <th>27</th>\n",
       "      <td>27</td>\n",
       "      <td>0.49</td>\n",
       "    </tr>\n",
       "    <tr>\n",
       "      <th>28</th>\n",
       "      <td>28</td>\n",
       "      <td>0.52</td>\n",
       "    </tr>\n",
       "    <tr>\n",
       "      <th>29</th>\n",
       "      <td>29</td>\n",
       "      <td>0.53</td>\n",
       "    </tr>\n",
       "    <tr>\n",
       "      <th>30</th>\n",
       "      <td>30</td>\n",
       "      <td>0.50</td>\n",
       "    </tr>\n",
       "    <tr>\n",
       "      <th>31</th>\n",
       "      <td>31</td>\n",
       "      <td>0.48</td>\n",
       "    </tr>\n",
       "    <tr>\n",
       "      <th>32</th>\n",
       "      <td>32</td>\n",
       "      <td>0.49</td>\n",
       "    </tr>\n",
       "    <tr>\n",
       "      <th>33</th>\n",
       "      <td>33</td>\n",
       "      <td>0.48</td>\n",
       "    </tr>\n",
       "    <tr>\n",
       "      <th>34</th>\n",
       "      <td>34</td>\n",
       "      <td>0.50</td>\n",
       "    </tr>\n",
       "    <tr>\n",
       "      <th>35</th>\n",
       "      <td>35</td>\n",
       "      <td>0.57</td>\n",
       "    </tr>\n",
       "    <tr>\n",
       "      <th>36</th>\n",
       "      <td>36</td>\n",
       "      <td>0.46</td>\n",
       "    </tr>\n",
       "    <tr>\n",
       "      <th>37</th>\n",
       "      <td>37</td>\n",
       "      <td>0.43</td>\n",
       "    </tr>\n",
       "    <tr>\n",
       "      <th>38</th>\n",
       "      <td>38</td>\n",
       "      <td>0.51</td>\n",
       "    </tr>\n",
       "    <tr>\n",
       "      <th>39</th>\n",
       "      <td>39</td>\n",
       "      <td>0.45</td>\n",
       "    </tr>\n",
       "    <tr>\n",
       "      <th>40</th>\n",
       "      <td>40</td>\n",
       "      <td>0.52</td>\n",
       "    </tr>\n",
       "    <tr>\n",
       "      <th>41</th>\n",
       "      <td>41</td>\n",
       "      <td>0.49</td>\n",
       "    </tr>\n",
       "    <tr>\n",
       "      <th>42</th>\n",
       "      <td>42</td>\n",
       "      <td>0.47</td>\n",
       "    </tr>\n",
       "    <tr>\n",
       "      <th>43</th>\n",
       "      <td>43</td>\n",
       "      <td>0.52</td>\n",
       "    </tr>\n",
       "    <tr>\n",
       "      <th>44</th>\n",
       "      <td>44</td>\n",
       "      <td>0.49</td>\n",
       "    </tr>\n",
       "    <tr>\n",
       "      <th>45</th>\n",
       "      <td>45</td>\n",
       "      <td>0.52</td>\n",
       "    </tr>\n",
       "    <tr>\n",
       "      <th>46</th>\n",
       "      <td>46</td>\n",
       "      <td>0.53</td>\n",
       "    </tr>\n",
       "    <tr>\n",
       "      <th>47</th>\n",
       "      <td>47</td>\n",
       "      <td>0.50</td>\n",
       "    </tr>\n",
       "    <tr>\n",
       "      <th>48</th>\n",
       "      <td>48</td>\n",
       "      <td>0.47</td>\n",
       "    </tr>\n",
       "    <tr>\n",
       "      <th>49</th>\n",
       "      <td>49</td>\n",
       "      <td>0.54</td>\n",
       "    </tr>\n",
       "    <tr>\n",
       "      <th>50</th>\n",
       "      <td>50</td>\n",
       "      <td>0.54</td>\n",
       "    </tr>\n",
       "    <tr>\n",
       "      <th>51</th>\n",
       "      <td>51</td>\n",
       "      <td>0.49</td>\n",
       "    </tr>\n",
       "    <tr>\n",
       "      <th>52</th>\n",
       "      <td>52</td>\n",
       "      <td>0.39</td>\n",
       "    </tr>\n",
       "    <tr>\n",
       "      <th>53</th>\n",
       "      <td>53</td>\n",
       "      <td>0.44</td>\n",
       "    </tr>\n",
       "    <tr>\n",
       "      <th>54</th>\n",
       "      <td>54</td>\n",
       "      <td>0.51</td>\n",
       "    </tr>\n",
       "    <tr>\n",
       "      <th>55</th>\n",
       "      <td>55</td>\n",
       "      <td>0.52</td>\n",
       "    </tr>\n",
       "  </tbody>\n",
       "</table>\n",
       "</div>"
      ],
      "text/plain": [
       "     0     1\n",
       "0    0  0.51\n",
       "1    1  0.48\n",
       "2    2  0.51\n",
       "3    3  0.46\n",
       "4    4  0.50\n",
       "5    5  0.50\n",
       "6    6  0.48\n",
       "7    7  0.50\n",
       "8    8  0.48\n",
       "9    9  0.50\n",
       "10  10  0.53\n",
       "11  11  0.51\n",
       "12  12  0.50\n",
       "13  13  0.51\n",
       "14  14  0.46\n",
       "15  15  0.40\n",
       "16  16  0.50\n",
       "17  17  0.48\n",
       "18  18  0.50\n",
       "19  19  0.49\n",
       "20  20  0.51\n",
       "21  21  0.47\n",
       "22  22  0.50\n",
       "23  23  0.57\n",
       "24  24  0.60\n",
       "25  25  0.51\n",
       "26  26  0.50\n",
       "27  27  0.49\n",
       "28  28  0.52\n",
       "29  29  0.53\n",
       "30  30  0.50\n",
       "31  31  0.48\n",
       "32  32  0.49\n",
       "33  33  0.48\n",
       "34  34  0.50\n",
       "35  35  0.57\n",
       "36  36  0.46\n",
       "37  37  0.43\n",
       "38  38  0.51\n",
       "39  39  0.45\n",
       "40  40  0.52\n",
       "41  41  0.49\n",
       "42  42  0.47\n",
       "43  43  0.52\n",
       "44  44  0.49\n",
       "45  45  0.52\n",
       "46  46  0.53\n",
       "47  47  0.50\n",
       "48  48  0.47\n",
       "49  49  0.54\n",
       "50  50  0.54\n",
       "51  51  0.49\n",
       "52  52  0.39\n",
       "53  53  0.44\n",
       "54  54  0.51\n",
       "55  55  0.52"
      ]
     },
     "execution_count": 38,
     "metadata": {},
     "output_type": "execute_result"
    }
   ],
   "source": [
    "pd.DataFrame.from_records([\n",
    "    (i, roc_auc_score(all_inputs[:, i], all_outputs[:, i]).round(2))\n",
    "    for i in range(56)\n",
    "])"
   ]
  },
  {
   "cell_type": "code",
   "execution_count": 39,
   "metadata": {},
   "outputs": [
    {
     "name": "stderr",
     "output_type": "stream",
     "text": [
      "C:\\Users\\Admin\\Anaconda3\\lib\\site-packages\\torch\\nn\\functional.py:1350: UserWarning: nn.functional.sigmoid is deprecated. Use torch.sigmoid instead.\n",
      "  warnings.warn(\"nn.functional.sigmoid is deprecated. Use torch.sigmoid instead.\")\n"
     ]
    }
   ],
   "source": [
    "final_inputs = []\n",
    "final_outputs = []\n",
    "for i in range(56):\n",
    "    model.load_state_dict(torch.load('./mv2rnnmodel_c{}'.format(i)))\n",
    "    val_loader = DataLoader(valid_dataset, 16, shuffle=False)\n",
    "    this_epoch_valid_loss = 0\n",
    "    all_outputs = []\n",
    "    all_inputs = []\n",
    "    for inputs, labels in val_loader:\n",
    "        inputs = inputs.to(device)\n",
    "        labels = labels.to(device)\n",
    "        optimizer.zero_grad()\n",
    "        with torch.set_grad_enabled(False):\n",
    "            model = model.eval()\n",
    "            outputs = model(inputs)\n",
    "            loss = criterion(outputs, labels)\n",
    "            loss_val = loss.mean(dim=0).mean(dim=0).detach().cpu().numpy()\n",
    "            this_epoch_valid_loss += loss_val\n",
    "            all_outputs.append(outputs.detach().cpu().numpy())\n",
    "            all_inputs.append(labels.detach().cpu().numpy())\n",
    "    all_outputs = np.concatenate(all_outputs, axis=0)\n",
    "    all_inputs  = np.concatenate(all_inputs,  axis=0)\n",
    "    final_inputs.append(all_inputs[:, [i]])\n",
    "    final_outputs.append(all_outputs[:, [i]])"
   ]
  },
  {
   "cell_type": "code",
   "execution_count": 48,
   "metadata": {},
   "outputs": [],
   "source": [
    "all_inputs = np.concatenate(final_inputs, axis=-1)\n",
    "all_outputs = np.concatenate(final_outputs, axis=-1)"
   ]
  },
  {
   "cell_type": "code",
   "execution_count": 41,
   "metadata": {},
   "outputs": [],
   "source": [
    "all_outputs = 1 / (1 + np.exp(-all_outputs))"
   ]
  },
  {
   "cell_type": "code",
   "execution_count": 42,
   "metadata": {},
   "outputs": [],
   "source": [
    "from sklearn.metrics import roc_auc_score, average_precision_score"
   ]
  },
  {
   "cell_type": "code",
   "execution_count": 43,
   "metadata": {},
   "outputs": [
    {
     "data": {
      "text/plain": [
       "0.496765303020672"
      ]
     },
     "execution_count": 43,
     "metadata": {},
     "output_type": "execute_result"
    }
   ],
   "source": [
    "roc_auc_score(all_inputs, all_outputs, average='macro')"
   ]
  },
  {
   "cell_type": "code",
   "execution_count": 44,
   "metadata": {},
   "outputs": [
    {
     "data": {
      "text/plain": [
       "0.0295350336985603"
      ]
     },
     "execution_count": 44,
     "metadata": {},
     "output_type": "execute_result"
    }
   ],
   "source": [
    "average_precision_score(all_inputs, all_outputs, average='macro')"
   ]
  },
  {
   "cell_type": "code",
   "execution_count": 45,
   "metadata": {},
   "outputs": [
    {
     "data": {
      "text/html": [
       "<div>\n",
       "<style scoped>\n",
       "    .dataframe tbody tr th:only-of-type {\n",
       "        vertical-align: middle;\n",
       "    }\n",
       "\n",
       "    .dataframe tbody tr th {\n",
       "        vertical-align: top;\n",
       "    }\n",
       "\n",
       "    .dataframe thead th {\n",
       "        text-align: right;\n",
       "    }\n",
       "</style>\n",
       "<table border=\"1\" class=\"dataframe\">\n",
       "  <thead>\n",
       "    <tr style=\"text-align: right;\">\n",
       "      <th></th>\n",
       "      <th>0</th>\n",
       "      <th>1</th>\n",
       "    </tr>\n",
       "  </thead>\n",
       "  <tbody>\n",
       "    <tr>\n",
       "      <th>0</th>\n",
       "      <td>0</td>\n",
       "      <td>0.51</td>\n",
       "    </tr>\n",
       "    <tr>\n",
       "      <th>1</th>\n",
       "      <td>1</td>\n",
       "      <td>0.48</td>\n",
       "    </tr>\n",
       "    <tr>\n",
       "      <th>2</th>\n",
       "      <td>2</td>\n",
       "      <td>0.51</td>\n",
       "    </tr>\n",
       "    <tr>\n",
       "      <th>3</th>\n",
       "      <td>3</td>\n",
       "      <td>0.46</td>\n",
       "    </tr>\n",
       "    <tr>\n",
       "      <th>4</th>\n",
       "      <td>4</td>\n",
       "      <td>0.50</td>\n",
       "    </tr>\n",
       "    <tr>\n",
       "      <th>5</th>\n",
       "      <td>5</td>\n",
       "      <td>0.50</td>\n",
       "    </tr>\n",
       "    <tr>\n",
       "      <th>6</th>\n",
       "      <td>6</td>\n",
       "      <td>0.48</td>\n",
       "    </tr>\n",
       "    <tr>\n",
       "      <th>7</th>\n",
       "      <td>7</td>\n",
       "      <td>0.50</td>\n",
       "    </tr>\n",
       "    <tr>\n",
       "      <th>8</th>\n",
       "      <td>8</td>\n",
       "      <td>0.48</td>\n",
       "    </tr>\n",
       "    <tr>\n",
       "      <th>9</th>\n",
       "      <td>9</td>\n",
       "      <td>0.50</td>\n",
       "    </tr>\n",
       "    <tr>\n",
       "      <th>10</th>\n",
       "      <td>10</td>\n",
       "      <td>0.53</td>\n",
       "    </tr>\n",
       "    <tr>\n",
       "      <th>11</th>\n",
       "      <td>11</td>\n",
       "      <td>0.51</td>\n",
       "    </tr>\n",
       "    <tr>\n",
       "      <th>12</th>\n",
       "      <td>12</td>\n",
       "      <td>0.50</td>\n",
       "    </tr>\n",
       "    <tr>\n",
       "      <th>13</th>\n",
       "      <td>13</td>\n",
       "      <td>0.51</td>\n",
       "    </tr>\n",
       "    <tr>\n",
       "      <th>14</th>\n",
       "      <td>14</td>\n",
       "      <td>0.46</td>\n",
       "    </tr>\n",
       "    <tr>\n",
       "      <th>15</th>\n",
       "      <td>15</td>\n",
       "      <td>0.40</td>\n",
       "    </tr>\n",
       "    <tr>\n",
       "      <th>16</th>\n",
       "      <td>16</td>\n",
       "      <td>0.50</td>\n",
       "    </tr>\n",
       "    <tr>\n",
       "      <th>17</th>\n",
       "      <td>17</td>\n",
       "      <td>0.48</td>\n",
       "    </tr>\n",
       "    <tr>\n",
       "      <th>18</th>\n",
       "      <td>18</td>\n",
       "      <td>0.50</td>\n",
       "    </tr>\n",
       "    <tr>\n",
       "      <th>19</th>\n",
       "      <td>19</td>\n",
       "      <td>0.49</td>\n",
       "    </tr>\n",
       "    <tr>\n",
       "      <th>20</th>\n",
       "      <td>20</td>\n",
       "      <td>0.51</td>\n",
       "    </tr>\n",
       "    <tr>\n",
       "      <th>21</th>\n",
       "      <td>21</td>\n",
       "      <td>0.47</td>\n",
       "    </tr>\n",
       "    <tr>\n",
       "      <th>22</th>\n",
       "      <td>22</td>\n",
       "      <td>0.50</td>\n",
       "    </tr>\n",
       "    <tr>\n",
       "      <th>23</th>\n",
       "      <td>23</td>\n",
       "      <td>0.57</td>\n",
       "    </tr>\n",
       "    <tr>\n",
       "      <th>24</th>\n",
       "      <td>24</td>\n",
       "      <td>0.60</td>\n",
       "    </tr>\n",
       "    <tr>\n",
       "      <th>25</th>\n",
       "      <td>25</td>\n",
       "      <td>0.51</td>\n",
       "    </tr>\n",
       "    <tr>\n",
       "      <th>26</th>\n",
       "      <td>26</td>\n",
       "      <td>0.50</td>\n",
       "    </tr>\n",
       "    <tr>\n",
       "      <th>27</th>\n",
       "      <td>27</td>\n",
       "      <td>0.49</td>\n",
       "    </tr>\n",
       "    <tr>\n",
       "      <th>28</th>\n",
       "      <td>28</td>\n",
       "      <td>0.52</td>\n",
       "    </tr>\n",
       "    <tr>\n",
       "      <th>29</th>\n",
       "      <td>29</td>\n",
       "      <td>0.53</td>\n",
       "    </tr>\n",
       "    <tr>\n",
       "      <th>30</th>\n",
       "      <td>30</td>\n",
       "      <td>0.50</td>\n",
       "    </tr>\n",
       "    <tr>\n",
       "      <th>31</th>\n",
       "      <td>31</td>\n",
       "      <td>0.48</td>\n",
       "    </tr>\n",
       "    <tr>\n",
       "      <th>32</th>\n",
       "      <td>32</td>\n",
       "      <td>0.49</td>\n",
       "    </tr>\n",
       "    <tr>\n",
       "      <th>33</th>\n",
       "      <td>33</td>\n",
       "      <td>0.48</td>\n",
       "    </tr>\n",
       "    <tr>\n",
       "      <th>34</th>\n",
       "      <td>34</td>\n",
       "      <td>0.50</td>\n",
       "    </tr>\n",
       "    <tr>\n",
       "      <th>35</th>\n",
       "      <td>35</td>\n",
       "      <td>0.57</td>\n",
       "    </tr>\n",
       "    <tr>\n",
       "      <th>36</th>\n",
       "      <td>36</td>\n",
       "      <td>0.46</td>\n",
       "    </tr>\n",
       "    <tr>\n",
       "      <th>37</th>\n",
       "      <td>37</td>\n",
       "      <td>0.43</td>\n",
       "    </tr>\n",
       "    <tr>\n",
       "      <th>38</th>\n",
       "      <td>38</td>\n",
       "      <td>0.51</td>\n",
       "    </tr>\n",
       "    <tr>\n",
       "      <th>39</th>\n",
       "      <td>39</td>\n",
       "      <td>0.45</td>\n",
       "    </tr>\n",
       "    <tr>\n",
       "      <th>40</th>\n",
       "      <td>40</td>\n",
       "      <td>0.52</td>\n",
       "    </tr>\n",
       "    <tr>\n",
       "      <th>41</th>\n",
       "      <td>41</td>\n",
       "      <td>0.49</td>\n",
       "    </tr>\n",
       "    <tr>\n",
       "      <th>42</th>\n",
       "      <td>42</td>\n",
       "      <td>0.47</td>\n",
       "    </tr>\n",
       "    <tr>\n",
       "      <th>43</th>\n",
       "      <td>43</td>\n",
       "      <td>0.52</td>\n",
       "    </tr>\n",
       "    <tr>\n",
       "      <th>44</th>\n",
       "      <td>44</td>\n",
       "      <td>0.49</td>\n",
       "    </tr>\n",
       "    <tr>\n",
       "      <th>45</th>\n",
       "      <td>45</td>\n",
       "      <td>0.52</td>\n",
       "    </tr>\n",
       "    <tr>\n",
       "      <th>46</th>\n",
       "      <td>46</td>\n",
       "      <td>0.53</td>\n",
       "    </tr>\n",
       "    <tr>\n",
       "      <th>47</th>\n",
       "      <td>47</td>\n",
       "      <td>0.50</td>\n",
       "    </tr>\n",
       "    <tr>\n",
       "      <th>48</th>\n",
       "      <td>48</td>\n",
       "      <td>0.47</td>\n",
       "    </tr>\n",
       "    <tr>\n",
       "      <th>49</th>\n",
       "      <td>49</td>\n",
       "      <td>0.54</td>\n",
       "    </tr>\n",
       "    <tr>\n",
       "      <th>50</th>\n",
       "      <td>50</td>\n",
       "      <td>0.54</td>\n",
       "    </tr>\n",
       "    <tr>\n",
       "      <th>51</th>\n",
       "      <td>51</td>\n",
       "      <td>0.49</td>\n",
       "    </tr>\n",
       "    <tr>\n",
       "      <th>52</th>\n",
       "      <td>52</td>\n",
       "      <td>0.39</td>\n",
       "    </tr>\n",
       "    <tr>\n",
       "      <th>53</th>\n",
       "      <td>53</td>\n",
       "      <td>0.44</td>\n",
       "    </tr>\n",
       "    <tr>\n",
       "      <th>54</th>\n",
       "      <td>54</td>\n",
       "      <td>0.51</td>\n",
       "    </tr>\n",
       "    <tr>\n",
       "      <th>55</th>\n",
       "      <td>55</td>\n",
       "      <td>0.52</td>\n",
       "    </tr>\n",
       "  </tbody>\n",
       "</table>\n",
       "</div>"
      ],
      "text/plain": [
       "     0     1\n",
       "0    0  0.51\n",
       "1    1  0.48\n",
       "2    2  0.51\n",
       "3    3  0.46\n",
       "4    4  0.50\n",
       "5    5  0.50\n",
       "6    6  0.48\n",
       "7    7  0.50\n",
       "8    8  0.48\n",
       "9    9  0.50\n",
       "10  10  0.53\n",
       "11  11  0.51\n",
       "12  12  0.50\n",
       "13  13  0.51\n",
       "14  14  0.46\n",
       "15  15  0.40\n",
       "16  16  0.50\n",
       "17  17  0.48\n",
       "18  18  0.50\n",
       "19  19  0.49\n",
       "20  20  0.51\n",
       "21  21  0.47\n",
       "22  22  0.50\n",
       "23  23  0.57\n",
       "24  24  0.60\n",
       "25  25  0.51\n",
       "26  26  0.50\n",
       "27  27  0.49\n",
       "28  28  0.52\n",
       "29  29  0.53\n",
       "30  30  0.50\n",
       "31  31  0.48\n",
       "32  32  0.49\n",
       "33  33  0.48\n",
       "34  34  0.50\n",
       "35  35  0.57\n",
       "36  36  0.46\n",
       "37  37  0.43\n",
       "38  38  0.51\n",
       "39  39  0.45\n",
       "40  40  0.52\n",
       "41  41  0.49\n",
       "42  42  0.47\n",
       "43  43  0.52\n",
       "44  44  0.49\n",
       "45  45  0.52\n",
       "46  46  0.53\n",
       "47  47  0.50\n",
       "48  48  0.47\n",
       "49  49  0.54\n",
       "50  50  0.54\n",
       "51  51  0.49\n",
       "52  52  0.39\n",
       "53  53  0.44\n",
       "54  54  0.51\n",
       "55  55  0.52"
      ]
     },
     "execution_count": 45,
     "metadata": {},
     "output_type": "execute_result"
    }
   ],
   "source": [
    "pd.DataFrame.from_records([\n",
    "    (i, roc_auc_score(all_inputs[:, i], all_outputs[:, i]).round(2))\n",
    "    for i in range(56)\n",
    "])"
   ]
  },
  {
   "cell_type": "code",
   "execution_count": 46,
   "metadata": {},
   "outputs": [],
   "source": [
    "from sklearn.metrics import precision_recall_curve"
   ]
  },
  {
   "cell_type": "code",
   "execution_count": 49,
   "metadata": {},
   "outputs": [
    {
     "name": "stderr",
     "output_type": "stream",
     "text": [
      "C:\\Users\\Admin\\Anaconda3\\lib\\site-packages\\ipykernel_launcher.py:5: RuntimeWarning: invalid value encountered in true_divide\n",
      "  \"\"\"\n"
     ]
    },
    {
     "name": "stdout",
     "output_type": "stream",
     "text": [
      "[0.07054047 0.07129355 0.07151096 0.07157287 0.07251317 0.07253565\n",
      " 0.07360321 0.07247937 0.07267442 0.07211896 0.07236581 0.07287094\n",
      " 0.07290294 0.07400288 0.07349339 0.07443897 0.07427938 0.07432058\n",
      " 0.0740268  0.07368421 0.07373965 0.06755556 0.06966086 0.06074766\n",
      " 0.06096131 0.05528455 0.04761905 0.04774536 0.        ]\n"
     ]
    }
   ],
   "source": [
    "# Optimized macro F-score\n",
    "thresholds = {}\n",
    "for i in range(56):\n",
    "    precision, recall, threshold = precision_recall_curve(all_inputs[:, i], all_outputs[:, i])\n",
    "    f_score = np.nan_to_num((2 * precision * recall) / (precision + recall))\n",
    "    thresholds[i] = threshold[np.argmax(f_score)]\n",
    "print(f_score)"
   ]
  },
  {
   "cell_type": "code",
   "execution_count": 50,
   "metadata": {},
   "outputs": [
    {
     "data": {
      "text/plain": [
       "<All keys matched successfully>"
      ]
     },
     "execution_count": 50,
     "metadata": {},
     "output_type": "execute_result"
    },
    {
     "name": "stderr",
     "output_type": "stream",
     "text": [
      "C:\\Users\\Admin\\Anaconda3\\lib\\site-packages\\torch\\nn\\functional.py:1350: UserWarning: nn.functional.sigmoid is deprecated. Use torch.sigmoid instead.\n",
      "  warnings.warn(\"nn.functional.sigmoid is deprecated. Use torch.sigmoid instead.\")\n"
     ]
    },
    {
     "data": {
      "text/plain": [
       "<All keys matched successfully>"
      ]
     },
     "execution_count": 50,
     "metadata": {},
     "output_type": "execute_result"
    },
    {
     "data": {
      "text/plain": [
       "<All keys matched successfully>"
      ]
     },
     "execution_count": 50,
     "metadata": {},
     "output_type": "execute_result"
    },
    {
     "data": {
      "text/plain": [
       "<All keys matched successfully>"
      ]
     },
     "execution_count": 50,
     "metadata": {},
     "output_type": "execute_result"
    },
    {
     "data": {
      "text/plain": [
       "<All keys matched successfully>"
      ]
     },
     "execution_count": 50,
     "metadata": {},
     "output_type": "execute_result"
    },
    {
     "data": {
      "text/plain": [
       "<All keys matched successfully>"
      ]
     },
     "execution_count": 50,
     "metadata": {},
     "output_type": "execute_result"
    },
    {
     "data": {
      "text/plain": [
       "<All keys matched successfully>"
      ]
     },
     "execution_count": 50,
     "metadata": {},
     "output_type": "execute_result"
    },
    {
     "data": {
      "text/plain": [
       "<All keys matched successfully>"
      ]
     },
     "execution_count": 50,
     "metadata": {},
     "output_type": "execute_result"
    },
    {
     "data": {
      "text/plain": [
       "<All keys matched successfully>"
      ]
     },
     "execution_count": 50,
     "metadata": {},
     "output_type": "execute_result"
    },
    {
     "data": {
      "text/plain": [
       "<All keys matched successfully>"
      ]
     },
     "execution_count": 50,
     "metadata": {},
     "output_type": "execute_result"
    },
    {
     "data": {
      "text/plain": [
       "<All keys matched successfully>"
      ]
     },
     "execution_count": 50,
     "metadata": {},
     "output_type": "execute_result"
    },
    {
     "data": {
      "text/plain": [
       "<All keys matched successfully>"
      ]
     },
     "execution_count": 50,
     "metadata": {},
     "output_type": "execute_result"
    },
    {
     "data": {
      "text/plain": [
       "<All keys matched successfully>"
      ]
     },
     "execution_count": 50,
     "metadata": {},
     "output_type": "execute_result"
    },
    {
     "data": {
      "text/plain": [
       "<All keys matched successfully>"
      ]
     },
     "execution_count": 50,
     "metadata": {},
     "output_type": "execute_result"
    },
    {
     "data": {
      "text/plain": [
       "<All keys matched successfully>"
      ]
     },
     "execution_count": 50,
     "metadata": {},
     "output_type": "execute_result"
    },
    {
     "data": {
      "text/plain": [
       "<All keys matched successfully>"
      ]
     },
     "execution_count": 50,
     "metadata": {},
     "output_type": "execute_result"
    },
    {
     "data": {
      "text/plain": [
       "<All keys matched successfully>"
      ]
     },
     "execution_count": 50,
     "metadata": {},
     "output_type": "execute_result"
    },
    {
     "data": {
      "text/plain": [
       "<All keys matched successfully>"
      ]
     },
     "execution_count": 50,
     "metadata": {},
     "output_type": "execute_result"
    },
    {
     "data": {
      "text/plain": [
       "<All keys matched successfully>"
      ]
     },
     "execution_count": 50,
     "metadata": {},
     "output_type": "execute_result"
    },
    {
     "data": {
      "text/plain": [
       "<All keys matched successfully>"
      ]
     },
     "execution_count": 50,
     "metadata": {},
     "output_type": "execute_result"
    },
    {
     "data": {
      "text/plain": [
       "<All keys matched successfully>"
      ]
     },
     "execution_count": 50,
     "metadata": {},
     "output_type": "execute_result"
    },
    {
     "data": {
      "text/plain": [
       "<All keys matched successfully>"
      ]
     },
     "execution_count": 50,
     "metadata": {},
     "output_type": "execute_result"
    },
    {
     "data": {
      "text/plain": [
       "<All keys matched successfully>"
      ]
     },
     "execution_count": 50,
     "metadata": {},
     "output_type": "execute_result"
    },
    {
     "data": {
      "text/plain": [
       "<All keys matched successfully>"
      ]
     },
     "execution_count": 50,
     "metadata": {},
     "output_type": "execute_result"
    },
    {
     "data": {
      "text/plain": [
       "<All keys matched successfully>"
      ]
     },
     "execution_count": 50,
     "metadata": {},
     "output_type": "execute_result"
    },
    {
     "data": {
      "text/plain": [
       "<All keys matched successfully>"
      ]
     },
     "execution_count": 50,
     "metadata": {},
     "output_type": "execute_result"
    },
    {
     "data": {
      "text/plain": [
       "<All keys matched successfully>"
      ]
     },
     "execution_count": 50,
     "metadata": {},
     "output_type": "execute_result"
    },
    {
     "data": {
      "text/plain": [
       "<All keys matched successfully>"
      ]
     },
     "execution_count": 50,
     "metadata": {},
     "output_type": "execute_result"
    },
    {
     "data": {
      "text/plain": [
       "<All keys matched successfully>"
      ]
     },
     "execution_count": 50,
     "metadata": {},
     "output_type": "execute_result"
    },
    {
     "data": {
      "text/plain": [
       "<All keys matched successfully>"
      ]
     },
     "execution_count": 50,
     "metadata": {},
     "output_type": "execute_result"
    },
    {
     "data": {
      "text/plain": [
       "<All keys matched successfully>"
      ]
     },
     "execution_count": 50,
     "metadata": {},
     "output_type": "execute_result"
    },
    {
     "data": {
      "text/plain": [
       "<All keys matched successfully>"
      ]
     },
     "execution_count": 50,
     "metadata": {},
     "output_type": "execute_result"
    },
    {
     "data": {
      "text/plain": [
       "<All keys matched successfully>"
      ]
     },
     "execution_count": 50,
     "metadata": {},
     "output_type": "execute_result"
    },
    {
     "data": {
      "text/plain": [
       "<All keys matched successfully>"
      ]
     },
     "execution_count": 50,
     "metadata": {},
     "output_type": "execute_result"
    },
    {
     "data": {
      "text/plain": [
       "<All keys matched successfully>"
      ]
     },
     "execution_count": 50,
     "metadata": {},
     "output_type": "execute_result"
    },
    {
     "data": {
      "text/plain": [
       "<All keys matched successfully>"
      ]
     },
     "execution_count": 50,
     "metadata": {},
     "output_type": "execute_result"
    },
    {
     "data": {
      "text/plain": [
       "<All keys matched successfully>"
      ]
     },
     "execution_count": 50,
     "metadata": {},
     "output_type": "execute_result"
    },
    {
     "data": {
      "text/plain": [
       "<All keys matched successfully>"
      ]
     },
     "execution_count": 50,
     "metadata": {},
     "output_type": "execute_result"
    },
    {
     "data": {
      "text/plain": [
       "<All keys matched successfully>"
      ]
     },
     "execution_count": 50,
     "metadata": {},
     "output_type": "execute_result"
    },
    {
     "data": {
      "text/plain": [
       "<All keys matched successfully>"
      ]
     },
     "execution_count": 50,
     "metadata": {},
     "output_type": "execute_result"
    },
    {
     "data": {
      "text/plain": [
       "<All keys matched successfully>"
      ]
     },
     "execution_count": 50,
     "metadata": {},
     "output_type": "execute_result"
    },
    {
     "data": {
      "text/plain": [
       "<All keys matched successfully>"
      ]
     },
     "execution_count": 50,
     "metadata": {},
     "output_type": "execute_result"
    },
    {
     "data": {
      "text/plain": [
       "<All keys matched successfully>"
      ]
     },
     "execution_count": 50,
     "metadata": {},
     "output_type": "execute_result"
    },
    {
     "data": {
      "text/plain": [
       "<All keys matched successfully>"
      ]
     },
     "execution_count": 50,
     "metadata": {},
     "output_type": "execute_result"
    },
    {
     "data": {
      "text/plain": [
       "<All keys matched successfully>"
      ]
     },
     "execution_count": 50,
     "metadata": {},
     "output_type": "execute_result"
    },
    {
     "data": {
      "text/plain": [
       "<All keys matched successfully>"
      ]
     },
     "execution_count": 50,
     "metadata": {},
     "output_type": "execute_result"
    },
    {
     "data": {
      "text/plain": [
       "<All keys matched successfully>"
      ]
     },
     "execution_count": 50,
     "metadata": {},
     "output_type": "execute_result"
    },
    {
     "data": {
      "text/plain": [
       "<All keys matched successfully>"
      ]
     },
     "execution_count": 50,
     "metadata": {},
     "output_type": "execute_result"
    },
    {
     "data": {
      "text/plain": [
       "<All keys matched successfully>"
      ]
     },
     "execution_count": 50,
     "metadata": {},
     "output_type": "execute_result"
    },
    {
     "data": {
      "text/plain": [
       "<All keys matched successfully>"
      ]
     },
     "execution_count": 50,
     "metadata": {},
     "output_type": "execute_result"
    },
    {
     "data": {
      "text/plain": [
       "<All keys matched successfully>"
      ]
     },
     "execution_count": 50,
     "metadata": {},
     "output_type": "execute_result"
    },
    {
     "data": {
      "text/plain": [
       "<All keys matched successfully>"
      ]
     },
     "execution_count": 50,
     "metadata": {},
     "output_type": "execute_result"
    },
    {
     "data": {
      "text/plain": [
       "<All keys matched successfully>"
      ]
     },
     "execution_count": 50,
     "metadata": {},
     "output_type": "execute_result"
    },
    {
     "data": {
      "text/plain": [
       "<All keys matched successfully>"
      ]
     },
     "execution_count": 50,
     "metadata": {},
     "output_type": "execute_result"
    },
    {
     "data": {
      "text/plain": [
       "<All keys matched successfully>"
      ]
     },
     "execution_count": 50,
     "metadata": {},
     "output_type": "execute_result"
    },
    {
     "data": {
      "text/plain": [
       "<All keys matched successfully>"
      ]
     },
     "execution_count": 50,
     "metadata": {},
     "output_type": "execute_result"
    }
   ],
   "source": [
    "final_outputs = []\n",
    "for i in range(56):\n",
    "    model.load_state_dict(torch.load('./model_c{}'.format(i)))\n",
    "    test_loader = DataLoader(test_dataset, 32, shuffle=False)\n",
    "    all_outputs = []\n",
    "    for inputs, _ in test_loader:\n",
    "        inputs = inputs.to(device)\n",
    "        optimizer.zero_grad()\n",
    "        with torch.set_grad_enabled(False):\n",
    "            model = model.eval()\n",
    "            outputs = model(inputs)\n",
    "            all_outputs.append(outputs.detach().cpu().numpy())\n",
    "    all_outputs = np.concatenate(all_outputs, axis=0)\n",
    "    final_outputs.append(all_outputs[:, [i]])"
   ]
  },
  {
   "cell_type": "code",
   "execution_count": 51,
   "metadata": {},
   "outputs": [],
   "source": [
    "all_outputs = np.concatenate(final_outputs, axis=-1)"
   ]
  },
  {
   "cell_type": "code",
   "execution_count": 52,
   "metadata": {},
   "outputs": [],
   "source": [
    "all_outputs = 1 / (1 + np.exp(-all_outputs))"
   ]
  },
  {
   "cell_type": "code",
   "execution_count": 53,
   "metadata": {},
   "outputs": [
    {
     "ename": "FileNotFoundError",
     "evalue": "[Errno 2] File b'./moodtheme_split.txt' does not exist: b'./moodtheme_split.txt'",
     "output_type": "error",
     "traceback": [
      "\u001b[1;31m---------------------------------------------------------------------------\u001b[0m",
      "\u001b[1;31mFileNotFoundError\u001b[0m                         Traceback (most recent call last)",
      "\u001b[1;32m<ipython-input-53-46d454224ed6>\u001b[0m in \u001b[0;36m<module>\u001b[1;34m\u001b[0m\n\u001b[1;32m----> 1\u001b[1;33m \u001b[0mpd\u001b[0m\u001b[1;33m.\u001b[0m\u001b[0mread_csv\u001b[0m\u001b[1;33m(\u001b[0m\u001b[1;34m'./moodtheme_split.txt'\u001b[0m\u001b[1;33m,\u001b[0m \u001b[0mheader\u001b[0m\u001b[1;33m=\u001b[0m\u001b[1;32mNone\u001b[0m\u001b[1;33m)\u001b[0m\u001b[1;33m.\u001b[0m\u001b[0miloc\u001b[0m\u001b[1;33m[\u001b[0m\u001b[1;33m:\u001b[0m\u001b[1;33m,\u001b[0m \u001b[1;36m0\u001b[0m\u001b[1;33m]\u001b[0m\u001b[1;33m.\u001b[0m\u001b[0mstr\u001b[0m\u001b[1;33m[\u001b[0m\u001b[1;36m13\u001b[0m\u001b[1;33m:\u001b[0m\u001b[1;33m]\u001b[0m\u001b[1;33m.\u001b[0m\u001b[0mtolist\u001b[0m\u001b[1;33m(\u001b[0m\u001b[1;33m)\u001b[0m \u001b[1;33m==\u001b[0m \u001b[0msorted\u001b[0m\u001b[1;33m(\u001b[0m\u001b[0mtrain_df\u001b[0m\u001b[1;33m.\u001b[0m\u001b[0mcolumns\u001b[0m\u001b[1;33m.\u001b[0m\u001b[0mtolist\u001b[0m\u001b[1;33m(\u001b[0m\u001b[1;33m)\u001b[0m\u001b[1;33m)\u001b[0m\u001b[1;33m\u001b[0m\u001b[1;33m\u001b[0m\u001b[0m\n\u001b[0m",
      "\u001b[1;32m~\\Anaconda3\\lib\\site-packages\\pandas\\io\\parsers.py\u001b[0m in \u001b[0;36mparser_f\u001b[1;34m(filepath_or_buffer, sep, delimiter, header, names, index_col, usecols, squeeze, prefix, mangle_dupe_cols, dtype, engine, converters, true_values, false_values, skipinitialspace, skiprows, skipfooter, nrows, na_values, keep_default_na, na_filter, verbose, skip_blank_lines, parse_dates, infer_datetime_format, keep_date_col, date_parser, dayfirst, iterator, chunksize, compression, thousands, decimal, lineterminator, quotechar, quoting, doublequote, escapechar, comment, encoding, dialect, tupleize_cols, error_bad_lines, warn_bad_lines, delim_whitespace, low_memory, memory_map, float_precision)\u001b[0m\n\u001b[0;32m    700\u001b[0m                     skip_blank_lines=skip_blank_lines)\n\u001b[0;32m    701\u001b[0m \u001b[1;33m\u001b[0m\u001b[0m\n\u001b[1;32m--> 702\u001b[1;33m         \u001b[1;32mreturn\u001b[0m \u001b[0m_read\u001b[0m\u001b[1;33m(\u001b[0m\u001b[0mfilepath_or_buffer\u001b[0m\u001b[1;33m,\u001b[0m \u001b[0mkwds\u001b[0m\u001b[1;33m)\u001b[0m\u001b[1;33m\u001b[0m\u001b[1;33m\u001b[0m\u001b[0m\n\u001b[0m\u001b[0;32m    703\u001b[0m \u001b[1;33m\u001b[0m\u001b[0m\n\u001b[0;32m    704\u001b[0m     \u001b[0mparser_f\u001b[0m\u001b[1;33m.\u001b[0m\u001b[0m__name__\u001b[0m \u001b[1;33m=\u001b[0m \u001b[0mname\u001b[0m\u001b[1;33m\u001b[0m\u001b[1;33m\u001b[0m\u001b[0m\n",
      "\u001b[1;32m~\\Anaconda3\\lib\\site-packages\\pandas\\io\\parsers.py\u001b[0m in \u001b[0;36m_read\u001b[1;34m(filepath_or_buffer, kwds)\u001b[0m\n\u001b[0;32m    427\u001b[0m \u001b[1;33m\u001b[0m\u001b[0m\n\u001b[0;32m    428\u001b[0m     \u001b[1;31m# Create the parser.\u001b[0m\u001b[1;33m\u001b[0m\u001b[1;33m\u001b[0m\u001b[1;33m\u001b[0m\u001b[0m\n\u001b[1;32m--> 429\u001b[1;33m     \u001b[0mparser\u001b[0m \u001b[1;33m=\u001b[0m \u001b[0mTextFileReader\u001b[0m\u001b[1;33m(\u001b[0m\u001b[0mfilepath_or_buffer\u001b[0m\u001b[1;33m,\u001b[0m \u001b[1;33m**\u001b[0m\u001b[0mkwds\u001b[0m\u001b[1;33m)\u001b[0m\u001b[1;33m\u001b[0m\u001b[1;33m\u001b[0m\u001b[0m\n\u001b[0m\u001b[0;32m    430\u001b[0m \u001b[1;33m\u001b[0m\u001b[0m\n\u001b[0;32m    431\u001b[0m     \u001b[1;32mif\u001b[0m \u001b[0mchunksize\u001b[0m \u001b[1;32mor\u001b[0m \u001b[0miterator\u001b[0m\u001b[1;33m:\u001b[0m\u001b[1;33m\u001b[0m\u001b[1;33m\u001b[0m\u001b[0m\n",
      "\u001b[1;32m~\\Anaconda3\\lib\\site-packages\\pandas\\io\\parsers.py\u001b[0m in \u001b[0;36m__init__\u001b[1;34m(self, f, engine, **kwds)\u001b[0m\n\u001b[0;32m    893\u001b[0m             \u001b[0mself\u001b[0m\u001b[1;33m.\u001b[0m\u001b[0moptions\u001b[0m\u001b[1;33m[\u001b[0m\u001b[1;34m'has_index_names'\u001b[0m\u001b[1;33m]\u001b[0m \u001b[1;33m=\u001b[0m \u001b[0mkwds\u001b[0m\u001b[1;33m[\u001b[0m\u001b[1;34m'has_index_names'\u001b[0m\u001b[1;33m]\u001b[0m\u001b[1;33m\u001b[0m\u001b[1;33m\u001b[0m\u001b[0m\n\u001b[0;32m    894\u001b[0m \u001b[1;33m\u001b[0m\u001b[0m\n\u001b[1;32m--> 895\u001b[1;33m         \u001b[0mself\u001b[0m\u001b[1;33m.\u001b[0m\u001b[0m_make_engine\u001b[0m\u001b[1;33m(\u001b[0m\u001b[0mself\u001b[0m\u001b[1;33m.\u001b[0m\u001b[0mengine\u001b[0m\u001b[1;33m)\u001b[0m\u001b[1;33m\u001b[0m\u001b[1;33m\u001b[0m\u001b[0m\n\u001b[0m\u001b[0;32m    896\u001b[0m \u001b[1;33m\u001b[0m\u001b[0m\n\u001b[0;32m    897\u001b[0m     \u001b[1;32mdef\u001b[0m \u001b[0mclose\u001b[0m\u001b[1;33m(\u001b[0m\u001b[0mself\u001b[0m\u001b[1;33m)\u001b[0m\u001b[1;33m:\u001b[0m\u001b[1;33m\u001b[0m\u001b[1;33m\u001b[0m\u001b[0m\n",
      "\u001b[1;32m~\\Anaconda3\\lib\\site-packages\\pandas\\io\\parsers.py\u001b[0m in \u001b[0;36m_make_engine\u001b[1;34m(self, engine)\u001b[0m\n\u001b[0;32m   1120\u001b[0m     \u001b[1;32mdef\u001b[0m \u001b[0m_make_engine\u001b[0m\u001b[1;33m(\u001b[0m\u001b[0mself\u001b[0m\u001b[1;33m,\u001b[0m \u001b[0mengine\u001b[0m\u001b[1;33m=\u001b[0m\u001b[1;34m'c'\u001b[0m\u001b[1;33m)\u001b[0m\u001b[1;33m:\u001b[0m\u001b[1;33m\u001b[0m\u001b[1;33m\u001b[0m\u001b[0m\n\u001b[0;32m   1121\u001b[0m         \u001b[1;32mif\u001b[0m \u001b[0mengine\u001b[0m \u001b[1;33m==\u001b[0m \u001b[1;34m'c'\u001b[0m\u001b[1;33m:\u001b[0m\u001b[1;33m\u001b[0m\u001b[1;33m\u001b[0m\u001b[0m\n\u001b[1;32m-> 1122\u001b[1;33m             \u001b[0mself\u001b[0m\u001b[1;33m.\u001b[0m\u001b[0m_engine\u001b[0m \u001b[1;33m=\u001b[0m \u001b[0mCParserWrapper\u001b[0m\u001b[1;33m(\u001b[0m\u001b[0mself\u001b[0m\u001b[1;33m.\u001b[0m\u001b[0mf\u001b[0m\u001b[1;33m,\u001b[0m \u001b[1;33m**\u001b[0m\u001b[0mself\u001b[0m\u001b[1;33m.\u001b[0m\u001b[0moptions\u001b[0m\u001b[1;33m)\u001b[0m\u001b[1;33m\u001b[0m\u001b[1;33m\u001b[0m\u001b[0m\n\u001b[0m\u001b[0;32m   1123\u001b[0m         \u001b[1;32melse\u001b[0m\u001b[1;33m:\u001b[0m\u001b[1;33m\u001b[0m\u001b[1;33m\u001b[0m\u001b[0m\n\u001b[0;32m   1124\u001b[0m             \u001b[1;32mif\u001b[0m \u001b[0mengine\u001b[0m \u001b[1;33m==\u001b[0m \u001b[1;34m'python'\u001b[0m\u001b[1;33m:\u001b[0m\u001b[1;33m\u001b[0m\u001b[1;33m\u001b[0m\u001b[0m\n",
      "\u001b[1;32m~\\Anaconda3\\lib\\site-packages\\pandas\\io\\parsers.py\u001b[0m in \u001b[0;36m__init__\u001b[1;34m(self, src, **kwds)\u001b[0m\n\u001b[0;32m   1851\u001b[0m         \u001b[0mkwds\u001b[0m\u001b[1;33m[\u001b[0m\u001b[1;34m'usecols'\u001b[0m\u001b[1;33m]\u001b[0m \u001b[1;33m=\u001b[0m \u001b[0mself\u001b[0m\u001b[1;33m.\u001b[0m\u001b[0musecols\u001b[0m\u001b[1;33m\u001b[0m\u001b[1;33m\u001b[0m\u001b[0m\n\u001b[0;32m   1852\u001b[0m \u001b[1;33m\u001b[0m\u001b[0m\n\u001b[1;32m-> 1853\u001b[1;33m         \u001b[0mself\u001b[0m\u001b[1;33m.\u001b[0m\u001b[0m_reader\u001b[0m \u001b[1;33m=\u001b[0m \u001b[0mparsers\u001b[0m\u001b[1;33m.\u001b[0m\u001b[0mTextReader\u001b[0m\u001b[1;33m(\u001b[0m\u001b[0msrc\u001b[0m\u001b[1;33m,\u001b[0m \u001b[1;33m**\u001b[0m\u001b[0mkwds\u001b[0m\u001b[1;33m)\u001b[0m\u001b[1;33m\u001b[0m\u001b[1;33m\u001b[0m\u001b[0m\n\u001b[0m\u001b[0;32m   1854\u001b[0m         \u001b[0mself\u001b[0m\u001b[1;33m.\u001b[0m\u001b[0munnamed_cols\u001b[0m \u001b[1;33m=\u001b[0m \u001b[0mself\u001b[0m\u001b[1;33m.\u001b[0m\u001b[0m_reader\u001b[0m\u001b[1;33m.\u001b[0m\u001b[0munnamed_cols\u001b[0m\u001b[1;33m\u001b[0m\u001b[1;33m\u001b[0m\u001b[0m\n\u001b[0;32m   1855\u001b[0m \u001b[1;33m\u001b[0m\u001b[0m\n",
      "\u001b[1;32mpandas/_libs/parsers.pyx\u001b[0m in \u001b[0;36mpandas._libs.parsers.TextReader.__cinit__\u001b[1;34m()\u001b[0m\n",
      "\u001b[1;32mpandas/_libs/parsers.pyx\u001b[0m in \u001b[0;36mpandas._libs.parsers.TextReader._setup_parser_source\u001b[1;34m()\u001b[0m\n",
      "\u001b[1;31mFileNotFoundError\u001b[0m: [Errno 2] File b'./moodtheme_split.txt' does not exist: b'./moodtheme_split.txt'"
     ]
    }
   ],
   "source": [
    "pd.read_csv('./moodtheme_split.txt', header=None).iloc[:, 0].str[13:].tolist() == sorted(train_df.columns.tolist())\n"
   ]
  },
  {
   "cell_type": "code",
   "execution_count": 54,
   "metadata": {},
   "outputs": [
    {
     "data": {
      "text/plain": [
       "((4231, 56), dtype('float64'))"
      ]
     },
     "execution_count": 54,
     "metadata": {},
     "output_type": "execute_result"
    }
   ],
   "source": [
    "all_outputs.shape, all_outputs.astype('float64').dtype"
   ]
  },
  {
   "cell_type": "code",
   "execution_count": 55,
   "metadata": {},
   "outputs": [],
   "source": [
    "np.save('cnnrnnpredictions.npy', all_outputs.astype('float64'))"
   ]
  },
  {
   "cell_type": "code",
   "execution_count": 56,
   "metadata": {},
   "outputs": [],
   "source": [
    "decisions = []\n",
    "for i in range(56):\n",
    "    decisions.append(\n",
    "        all_outputs[:, [i]] > thresholds[i]\n",
    "    )\n",
    "decisions = np.concatenate(decisions, axis=-1)"
   ]
  },
  {
   "cell_type": "code",
   "execution_count": 57,
   "metadata": {},
   "outputs": [
    {
     "data": {
      "text/plain": [
       "((4231, 56), dtype('bool'))"
      ]
     },
     "execution_count": 57,
     "metadata": {},
     "output_type": "execute_result"
    }
   ],
   "source": [
    "decisions.shape, decisions.dtype"
   ]
  },
  {
   "cell_type": "code",
   "execution_count": 58,
   "metadata": {},
   "outputs": [],
   "source": [
    "np.save('cnnrnndecisions.npy', decisions)"
   ]
  },
  {
   "cell_type": "code",
   "execution_count": 63,
   "metadata": {},
   "outputs": [
    {
     "data": {
      "text/plain": [
       "[<matplotlib.lines.Line2D at 0x26572ad0978>]"
      ]
     },
     "execution_count": 63,
     "metadata": {},
     "output_type": "execute_result"
    },
    {
     "data": {
      "text/plain": [
       "[<matplotlib.lines.Line2D at 0x26572aeebe0>]"
      ]
     },
     "execution_count": 63,
     "metadata": {},
     "output_type": "execute_result"
    },
    {
     "ename": "AttributeError",
     "evalue": "module 'matplotlib.pyplot' has no attribute 'legends'",
     "output_type": "error",
     "traceback": [
      "\u001b[1;31m---------------------------------------------------------------------------\u001b[0m",
      "\u001b[1;31mAttributeError\u001b[0m                            Traceback (most recent call last)",
      "\u001b[1;32m<ipython-input-63-4ea9ca3fccaf>\u001b[0m in \u001b[0;36m<module>\u001b[1;34m\u001b[0m\n\u001b[0;32m      1\u001b[0m \u001b[0mplt\u001b[0m\u001b[1;33m.\u001b[0m\u001b[0mplot\u001b[0m\u001b[1;33m(\u001b[0m\u001b[0mtrain_loss_hist\u001b[0m\u001b[1;33m,\u001b[0m \u001b[0mlabel\u001b[0m \u001b[1;33m=\u001b[0m \u001b[1;34m'train loss'\u001b[0m\u001b[1;33m)\u001b[0m\u001b[1;33m\u001b[0m\u001b[1;33m\u001b[0m\u001b[0m\n\u001b[0;32m      2\u001b[0m \u001b[0mplt\u001b[0m\u001b[1;33m.\u001b[0m\u001b[0mplot\u001b[0m\u001b[1;33m(\u001b[0m\u001b[0mvalid_loss_hist\u001b[0m\u001b[1;33m,\u001b[0m \u001b[0mlabel\u001b[0m \u001b[1;33m=\u001b[0m \u001b[1;34m'valid loss'\u001b[0m\u001b[1;33m)\u001b[0m\u001b[1;33m\u001b[0m\u001b[1;33m\u001b[0m\u001b[0m\n\u001b[1;32m----> 3\u001b[1;33m \u001b[0mplt\u001b[0m\u001b[1;33m.\u001b[0m\u001b[0mlegends\u001b[0m\u001b[1;33m\u001b[0m\u001b[1;33m\u001b[0m\u001b[0m\n\u001b[0m\u001b[0;32m      4\u001b[0m \u001b[0mplt\u001b[0m\u001b[1;33m.\u001b[0m\u001b[0mshow\u001b[0m\u001b[1;33m(\u001b[0m\u001b[1;33m)\u001b[0m\u001b[1;33m\u001b[0m\u001b[1;33m\u001b[0m\u001b[0m\n",
      "\u001b[1;31mAttributeError\u001b[0m: module 'matplotlib.pyplot' has no attribute 'legends'"
     ]
    },
    {
     "data": {
      "image/png": "[encoded data removed]",
      "text/plain": [
       "<Figure size 432x288 with 1 Axes>"
      ]
     },
     "metadata": {
      "needs_background": "light"
     },
     "output_type": "display_data"
    }
   ],
   "source": [
    "plt.plot(train_loss_hist, label = 'train loss')\n",
    "plt.plot(valid_loss_hist, label = 'valid loss')\n",
    "plt.legends\n",
    "plt.show()"
   ]
  },
  {
   "cell_type": "code",
   "execution_count": null,
   "metadata": {},
   "outputs": [],
   "source": [
    "import dill\n",
    "dill.dump_session('cnnrnn_env.db')"
   ]
  },
  {
   "cell_type": "code",
   "execution_count": null,
   "metadata": {},
   "outputs": [],
   "source": []
  }
 ],
 "metadata": {
  "kernelspec": {
   "display_name": "Python 3",
   "language": "python",
   "name": "python3"
  },
  "language_info": {
   "codemirror_mode": {
    "name": "ipython",
    "version": 3
   },
   "file_extension": ".py",
   "mimetype": "text/x-python",
   "name": "python",
   "nbconvert_exporter": "python",
   "pygments_lexer": "ipython3",
   "version": "3.7.3"
  }
 },
 "nbformat": 4,
 "nbformat_minor": 2
}
